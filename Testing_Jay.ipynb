{
 "metadata": {
  "name": "Testing_Jay"
 },
 "nbformat": 3,
 "nbformat_minor": 0,
 "worksheets": [
  {
   "cells": [
    {
     "cell_type": "code",
     "collapsed": false,
     "input": [
      "try:\n",
      "    reload(wed)\n",
      "except:\n",
      "    import wed\n",
      "    \n",
      "import pysal as ps\n",
      "import numpy as np\n",
      "import time\n",
      "import net_shp_io"
     ],
     "language": "python",
     "metadata": {},
     "outputs": [],
     "prompt_number": 215
    },
    {
     "cell_type": "heading",
     "level": 2,
     "metadata": {},
     "source": [
      "Testing for filament types.  Internal first using streets_net.shp."
     ]
    },
    {
     "cell_type": "code",
     "collapsed": false,
     "input": [
      "coords, edges = net_shp_io.reader(ps.examples.get_path(\"streets_net.shp\"))\n",
      "t1 = time.time()\n",
      "s_wed = wed.WED(edges, coords)\n",
      "t2 = time.time()\n",
      "print \"WED took {} seconds to generate\".format(t2-t1)\n",
      "#Filament ID is working as expected."
     ],
     "language": "python",
     "metadata": {},
     "outputs": [
      {
       "output_type": "stream",
       "stream": "stdout",
       "text": [
        "WED took 0.200222015381 seconds to generate\n"
       ]
      }
     ],
     "prompt_number": 216
    },
    {
     "cell_type": "code",
     "collapsed": false,
     "input": [
      "s_wed.enum_links_node(135)"
     ],
     "language": "python",
     "metadata": {},
     "outputs": [
      {
       "ename": "TypeError",
       "evalue": "unhashable type: 'list'",
       "output_type": "pyerr",
       "traceback": [
        "\u001b[0;31m---------------------------------------------------------------------------\u001b[0m\n\u001b[0;31mTypeError\u001b[0m                                 Traceback (most recent call last)",
        "\u001b[0;32m<ipython-input-214-df9cd4f1c2a4>\u001b[0m in \u001b[0;36m<module>\u001b[0;34m()\u001b[0m\n\u001b[0;32m----> 1\u001b[0;31m \u001b[0ms_wed\u001b[0m\u001b[0;34m.\u001b[0m\u001b[0menum_links_node\u001b[0m\u001b[0;34m(\u001b[0m\u001b[0;36m135\u001b[0m\u001b[0;34m)\u001b[0m\u001b[0;34m\u001b[0m\u001b[0m\n\u001b[0m",
        "\u001b[0;32m/Users/jay/github/pysal/pysal/network/wed.py\u001b[0m in \u001b[0;36menum_links_node\u001b[0;34m(self, node)\u001b[0m\n\u001b[1;32m    118\u001b[0m                 \u001b[0ml\u001b[0m \u001b[0;34m=\u001b[0m \u001b[0mself\u001b[0m\u001b[0;34m.\u001b[0m\u001b[0mstart_c\u001b[0m\u001b[0;34m[\u001b[0m\u001b[0ml\u001b[0m\u001b[0;34m]\u001b[0m\u001b[0;34m\u001b[0m\u001b[0m\n\u001b[1;32m    119\u001b[0m             \u001b[0;32melse\u001b[0m\u001b[0;34m:\u001b[0m\u001b[0;34m\u001b[0m\u001b[0m\n\u001b[0;32m--> 120\u001b[0;31m                 \u001b[0ml\u001b[0m \u001b[0;34m=\u001b[0m \u001b[0mself\u001b[0m\u001b[0;34m.\u001b[0m\u001b[0mend_c\u001b[0m\u001b[0;34m[\u001b[0m\u001b[0ml\u001b[0m\u001b[0;34m]\u001b[0m\u001b[0;34m\u001b[0m\u001b[0m\n\u001b[0m\u001b[1;32m    121\u001b[0m             \u001b[0;32mif\u001b[0m \u001b[0;34m(\u001b[0m\u001b[0ml\u001b[0m \u001b[0;32mis\u001b[0m \u001b[0mNone\u001b[0m\u001b[0;34m)\u001b[0m \u001b[0;32mor\u001b[0m \u001b[0;34m(\u001b[0m\u001b[0mset\u001b[0m\u001b[0;34m(\u001b[0m\u001b[0ml\u001b[0m\u001b[0;34m)\u001b[0m \u001b[0;34m==\u001b[0m \u001b[0mset\u001b[0m\u001b[0;34m(\u001b[0m\u001b[0ml0\u001b[0m\u001b[0;34m)\u001b[0m\u001b[0;34m)\u001b[0m\u001b[0;34m:\u001b[0m\u001b[0;34m\u001b[0m\u001b[0m\n\u001b[1;32m    122\u001b[0m                 \u001b[0msearching\u001b[0m \u001b[0;34m=\u001b[0m \u001b[0mFalse\u001b[0m\u001b[0;34m\u001b[0m\u001b[0m\n",
        "\u001b[0;31mTypeError\u001b[0m: unhashable type: 'list'"
       ]
      }
     ],
     "prompt_number": 214
    },
    {
     "cell_type": "code",
     "collapsed": false,
     "input": [
      "#How does eberly work?  Here we see that the internal filament is found.  \n",
      "coords, edges = net_shp_io.reader(ps.examples.get_path(\"eberly_net.shp\"))\n",
      "t1 = time.time()\n",
      "e_wed = wed.WED(edges, coords)\n",
      "t2 = time.time()\n",
      "print \"WED took {} seconds to generate\".format(t2-t1)"
     ],
     "language": "python",
     "metadata": {},
     "outputs": [
      {
       "output_type": "stream",
       "stream": "stdout",
       "text": [
        "For filament [2, 3, 5]: \n",
        "    CCW Most edge is (5, 0)\n",
        "    CW Most edge is (4, 5)\n",
        "For filament [4, 8, 10]: \n",
        "    CCW Most edge is (11, 10)\n",
        "    CW Most edge is (10, 14)\n",
        "For filament [4, 8, 10]: \n",
        "    CCW Most edge is (1, 4)\n",
        "    CW Most edge is (4, 5)\n",
        "WED took 0.0110108852386 seconds to generate\n"
       ]
      }
     ],
     "prompt_number": 203
    },
    {
     "cell_type": "markdown",
     "metadata": {},
     "source": [
      "Edge (136,198) is an internal filament.  The region has 2 internal filaments."
     ]
    },
    {
     "cell_type": "code",
     "collapsed": false,
     "input": [
      "s_wed.enum_links_node(198) #We get the end correctly."
     ],
     "language": "python",
     "metadata": {},
     "outputs": [
      {
       "output_type": "pyout",
       "prompt_number": 369,
       "text": [
        "[(198, 136)]"
       ]
      }
     ],
     "prompt_number": 369
    },
    {
     "cell_type": "code",
     "collapsed": false,
     "input": [
      "s_wed.enum_links_node(136) #But we miss the internal filament if we start at the node incident to the region."
     ],
     "language": "python",
     "metadata": {},
     "outputs": [
      {
       "output_type": "pyout",
       "prompt_number": 370,
       "text": [
        "[(35, 136), (144, 136), (135, 136)]"
       ]
      }
     ],
     "prompt_number": 370
    },
    {
     "cell_type": "code",
     "collapsed": false,
     "input": [
      "s_wed.enum_edges_region(2) \n",
      "#Interestingly, we see that the filament is a part of the region when we enum it.  \n",
      "#We also see the algorithm walk 'down' and back 'up'."
     ],
     "language": "python",
     "metadata": {},
     "outputs": [
      {
       "output_type": "pyout",
       "prompt_number": 371,
       "text": [
        "[(33, 34),\n",
        " (34, 35),\n",
        " (35, 136),\n",
        " (136, 135),\n",
        " (135, 143),\n",
        " (143, 141),\n",
        " (141, 196),\n",
        " (196, 133),\n",
        " (133, 132),\n",
        " (132, 134),\n",
        " (134, 177),\n",
        " (177, 156),\n",
        " (156, 157),\n",
        " (157, 158),\n",
        " (158, 159),\n",
        " (159, 153),\n",
        " (153, 33),\n",
        " (33, 34)]"
       ]
      }
     ],
     "prompt_number": 371
    },
    {
     "cell_type": "code",
     "collapsed": false,
     "input": [
      "s_wed.enum_links_node(194)"
     ],
     "language": "python",
     "metadata": {},
     "outputs": [
      {
       "output_type": "pyout",
       "prompt_number": 372,
       "text": [
        "[(194, 135)]"
       ]
      }
     ],
     "prompt_number": 372
    },
    {
     "cell_type": "code",
     "collapsed": false,
     "input": [
      "s_wed.enum_links_node(135)"
     ],
     "language": "python",
     "metadata": {},
     "outputs": [
      {
       "output_type": "pyout",
       "prompt_number": 373,
       "text": [
        "[(136, 135), (143, 135)]"
       ]
      }
     ],
     "prompt_number": 373
    },
    {
     "cell_type": "code",
     "collapsed": false,
     "input": [
      "#How does eberly work?  Here we see that the internal filament is found.  \n",
      "coords, edges = net_shp_io.reader(ps.examples.get_path(\"eberly_net.shp\"))\n",
      "t1 = time.time()\n",
      "e_wed = wed.WED(edges, coords)\n",
      "t2 = time.time()\n",
      "print \"WED took {} seconds to generate\".format(t2-t1)"
     ],
     "language": "python",
     "metadata": {},
     "outputs": [
      {
       "output_type": "stream",
       "stream": "stdout",
       "text": [
        "set([5])\n",
        "{(5, 4): (62.10272896905237, 1), (5, 0): (9.462322208025574, -1)}\n",
        "\n",
        "set([10, 4])\n",
        "{(10, 14): (175.9143832200252, -1), (10, 11): (94.66054548258033, -1)}\n",
        "\n",
        "{(4, 5): (110.22485943116808, 1), (4, 1): (141.34019174590992, -1)}\n",
        "\n",
        "set([])\n",
        "WED took 0.0100359916687 seconds to generate\n"
       ]
      }
     ],
     "prompt_number": 374
    },
    {
     "cell_type": "code",
     "collapsed": false,
     "input": [
      "e_wed.enum_links_node(5)"
     ],
     "language": "python",
     "metadata": {},
     "outputs": [
      {
       "output_type": "pyout",
       "prompt_number": 295,
       "text": [
        "[(4, 5), (5, 0)]"
       ]
      }
     ],
     "prompt_number": 295
    },
    {
     "cell_type": "code",
     "collapsed": false,
     "input": [
      "#Is this a function of 2 internal filaments? - Maybe, we get the correct internal pointer on the single.\n",
      "s_wed.enum_links_node(66)"
     ],
     "language": "python",
     "metadata": {},
     "outputs": [
      {
       "output_type": "pyout",
       "prompt_number": 296,
       "text": [
        "[(145, 66), (68, 66), (54, 66)]"
       ]
      }
     ],
     "prompt_number": 296
    },
    {
     "cell_type": "code",
     "collapsed": false,
     "input": [
      "#We only look at the start_c and end_c pointers here.  Check those.\n",
      "#These pointers are correct...\n",
      "print s_wed.start_c[(136,198)]\n",
      "print s_wed.end_c[(136,198)]\n",
      "print s_wed.start_c[(198,136)]\n",
      "print s_wed.end_c[(198,136)]\n",
      "print\n",
      "print s_wed.start_c[(66,67)]\n",
      "print s_wed.end_c[(66,67)]\n",
      "print s_wed.start_c[(67,66)]\n",
      "print s_wed.end_c[(67,66)]"
     ],
     "language": "python",
     "metadata": {},
     "outputs": [
      {
       "ename": "KeyError",
       "evalue": "(136, 198)",
       "output_type": "pyerr",
       "traceback": [
        "\u001b[0;31m---------------------------------------------------------------------------\u001b[0m\n\u001b[0;31mKeyError\u001b[0m                                  Traceback (most recent call last)",
        "\u001b[0;32m<ipython-input-297-3b9cc120037e>\u001b[0m in \u001b[0;36m<module>\u001b[0;34m()\u001b[0m\n\u001b[1;32m      1\u001b[0m \u001b[0;31m#We only look at the start_c and end_c pointers here.  Check those.\u001b[0m\u001b[0;34m\u001b[0m\u001b[0;34m\u001b[0m\u001b[0m\n\u001b[1;32m      2\u001b[0m \u001b[0;31m#These pointers are correct...\u001b[0m\u001b[0;34m\u001b[0m\u001b[0;34m\u001b[0m\u001b[0m\n\u001b[0;32m----> 3\u001b[0;31m \u001b[0;32mprint\u001b[0m \u001b[0ms_wed\u001b[0m\u001b[0;34m.\u001b[0m\u001b[0mstart_c\u001b[0m\u001b[0;34m[\u001b[0m\u001b[0;34m(\u001b[0m\u001b[0;36m136\u001b[0m\u001b[0;34m,\u001b[0m\u001b[0;36m198\u001b[0m\u001b[0;34m)\u001b[0m\u001b[0;34m]\u001b[0m\u001b[0;34m\u001b[0m\u001b[0m\n\u001b[0m\u001b[1;32m      4\u001b[0m \u001b[0;32mprint\u001b[0m \u001b[0ms_wed\u001b[0m\u001b[0;34m.\u001b[0m\u001b[0mend_c\u001b[0m\u001b[0;34m[\u001b[0m\u001b[0;34m(\u001b[0m\u001b[0;36m136\u001b[0m\u001b[0;34m,\u001b[0m\u001b[0;36m198\u001b[0m\u001b[0;34m)\u001b[0m\u001b[0;34m]\u001b[0m\u001b[0;34m\u001b[0m\u001b[0m\n\u001b[1;32m      5\u001b[0m \u001b[0;32mprint\u001b[0m \u001b[0ms_wed\u001b[0m\u001b[0;34m.\u001b[0m\u001b[0mstart_c\u001b[0m\u001b[0;34m[\u001b[0m\u001b[0;34m(\u001b[0m\u001b[0;36m198\u001b[0m\u001b[0;34m,\u001b[0m\u001b[0;36m136\u001b[0m\u001b[0;34m)\u001b[0m\u001b[0;34m]\u001b[0m\u001b[0;34m\u001b[0m\u001b[0m\n",
        "\u001b[0;31mKeyError\u001b[0m: (136, 198)"
       ]
      }
     ],
     "prompt_number": 297
    },
    {
     "cell_type": "code",
     "collapsed": false,
     "input": [
      "#So this issue must be in another pointer that neds to be updated at filament entry.\n",
      "#Start with the edge at the node edge\n",
      "links = []\n",
      "l0 = s_wed.node_edge[136]\n",
      "print l0\n",
      "links.append(l0)\n",
      "l = l0\n",
      "node = 136\n",
      "v = node\n",
      "searching = True\n",
      "while searching:\n",
      "    if v == l[0]:\n",
      "        print \"Equal\"\n",
      "        l = s_wed.start_c[l]\n",
      "    else:\n",
      "        l = s_wed.end_c[l]\n",
      "        print \"Else\", l\n",
      "    if (l is None) or (set(l) == set(l0)):\n",
      "        searching = False\n",
      "    else:\n",
      "        links.append(l)\n",
      "print\n",
      "#Here we see that the end_c of 135,136 is incorrect.  It should be the filament, but it isn't.\n",
      "print s_wed.end_c[(135,136)]"
     ],
     "language": "python",
     "metadata": {},
     "outputs": [
      {
       "output_type": "stream",
       "stream": "stdout",
       "text": [
        "(35, 136)\n",
        "Else (144, 136)\n",
        "Else (135, 136)\n",
        "Else (35, 136)\n",
        "\n",
        "(35, 136)\n"
       ]
      }
     ],
     "prompt_number": 298
    },
    {
     "cell_type": "code",
     "collapsed": false,
     "input": [
      "#Perhaps this is due to this edge being tagged to the region? - Nope.\n",
      "s_wed.region_edge[2]"
     ],
     "language": "python",
     "metadata": {},
     "outputs": [
      {
       "output_type": "pyout",
       "prompt_number": 299,
       "text": [
        "(33, 34)"
       ]
      }
     ],
     "prompt_number": 299
    },
    {
     "cell_type": "code",
     "collapsed": false,
     "input": [],
     "language": "python",
     "metadata": {},
     "outputs": []
    }
   ],
   "metadata": {}
  }
 ]
}