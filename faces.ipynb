{
 "metadata": {
  "name": "faces"
 },
 "nbformat": 3,
 "nbformat_minor": 0,
 "worksheets": [
  {
   "cells": [
    {
     "cell_type": "code",
     "collapsed": false,
     "input": [
      "import networkx as nx"
     ],
     "language": "python",
     "metadata": {},
     "outputs": [],
     "prompt_number": 1
    },
    {
     "cell_type": "code",
     "collapsed": false,
     "input": [
      "# from eberly\n",
      "\n",
      "vertices = {}\n",
      "for v in range(28):\n",
      "    vertices[v] = []"
     ],
     "language": "python",
     "metadata": {},
     "outputs": [],
     "prompt_number": 2
    },
    {
     "cell_type": "code",
     "collapsed": false,
     "input": [
      "vertices[1] = [2,3]\n",
      "vertices[2] = [1,4,7]\n",
      "vertices[3] = [1,4]\n",
      "vertices[4] = [2,3,5]\n",
      "vertices[5] = [4,6]\n",
      "vertices[6] = [5]\n",
      "vertices[7] = [2,11]\n",
      "vertices[8] = [9,10]\n",
      "vertices[9] = [8,10]\n",
      "vertices[10] = [8,9]\n",
      "vertices[11] = [7,12,13]\n",
      "vertices[12] = [11,13,20]\n",
      "vertices[13] = [11,12,18]\n",
      "vertices[14] = [15]\n",
      "vertices[15] = [14, 16]\n",
      "vertices[16] = [15]\n",
      "vertices[18] = [13,19]\n",
      "vertices[19] = [18,20,21]\n",
      "vertices[20] = [12,19,21,22,24]\n",
      "vertices[21] = [19,20]\n",
      "vertices[22] = [20,23]\n",
      "vertices[23] = [22,24]\n",
      "vertices[24] = [20,23]\n",
      "vertices[25] = [26,27]\n",
      "vertices[26] = [25,27]\n",
      "vertices[27] = [25,26]"
     ],
     "language": "python",
     "metadata": {},
     "outputs": [],
     "prompt_number": 3
    },
    {
     "cell_type": "code",
     "collapsed": false,
     "input": [
      "G = nx.Graph(vertices)"
     ],
     "language": "python",
     "metadata": {},
     "outputs": [],
     "prompt_number": 4
    },
    {
     "cell_type": "code",
     "collapsed": false,
     "input": [
      "sps = [ nx.single_source_dijkstra(G,n) for n in G.nodes()]"
     ],
     "language": "python",
     "metadata": {},
     "outputs": [],
     "prompt_number": 5
    },
    {
     "cell_type": "code",
     "collapsed": false,
     "input": [
      "sp11 = nx.single_source_dijkstra(G,11)"
     ],
     "language": "python",
     "metadata": {},
     "outputs": [],
     "prompt_number": 6
    },
    {
     "cell_type": "code",
     "collapsed": false,
     "input": [
      "sp11"
     ],
     "language": "python",
     "metadata": {},
     "outputs": [
      {
       "output_type": "pyout",
       "prompt_number": 7,
       "text": [
        "({1: 3,\n",
        "  2: 2,\n",
        "  3: 4,\n",
        "  4: 3,\n",
        "  5: 4,\n",
        "  6: 5,\n",
        "  7: 1,\n",
        "  11: 0,\n",
        "  12: 1,\n",
        "  13: 1,\n",
        "  18: 2,\n",
        "  19: 3,\n",
        "  20: 2,\n",
        "  21: 3,\n",
        "  22: 3,\n",
        "  23: 4,\n",
        "  24: 3},\n",
        " {1: [11, 7, 2, 1],\n",
        "  2: [11, 7, 2],\n",
        "  3: [11, 7, 2, 1, 3],\n",
        "  4: [11, 7, 2, 4],\n",
        "  5: [11, 7, 2, 4, 5],\n",
        "  6: [11, 7, 2, 4, 5, 6],\n",
        "  7: [11, 7],\n",
        "  11: [11],\n",
        "  12: [11, 12],\n",
        "  13: [11, 13],\n",
        "  18: [11, 13, 18],\n",
        "  19: [11, 13, 18, 19],\n",
        "  20: [11, 12, 20],\n",
        "  21: [11, 12, 20, 21],\n",
        "  22: [11, 12, 20, 22],\n",
        "  23: [11, 12, 20, 22, 23],\n",
        "  24: [11, 12, 20, 24]})"
       ]
      }
     ],
     "prompt_number": 7
    },
    {
     "cell_type": "code",
     "collapsed": false,
     "input": [
      "sps"
     ],
     "language": "python",
     "metadata": {},
     "outputs": [
      {
       "output_type": "pyout",
       "prompt_number": 8,
       "text": [
        "[({0: 0}, {0: [0]}),\n",
        " ({1: 0,\n",
        "   2: 1,\n",
        "   3: 1,\n",
        "   4: 2,\n",
        "   5: 3,\n",
        "   6: 4,\n",
        "   7: 2,\n",
        "   11: 3,\n",
        "   12: 4,\n",
        "   13: 4,\n",
        "   18: 5,\n",
        "   19: 6,\n",
        "   20: 5,\n",
        "   21: 6,\n",
        "   22: 6,\n",
        "   23: 7,\n",
        "   24: 6},\n",
        "  {1: [1],\n",
        "   2: [1, 2],\n",
        "   3: [1, 3],\n",
        "   4: [1, 2, 4],\n",
        "   5: [1, 2, 4, 5],\n",
        "   6: [1, 2, 4, 5, 6],\n",
        "   7: [1, 2, 7],\n",
        "   11: [1, 2, 7, 11],\n",
        "   12: [1, 2, 7, 11, 12],\n",
        "   13: [1, 2, 7, 11, 13],\n",
        "   18: [1, 2, 7, 11, 13, 18],\n",
        "   19: [1, 2, 7, 11, 13, 18, 19],\n",
        "   20: [1, 2, 7, 11, 12, 20],\n",
        "   21: [1, 2, 7, 11, 12, 20, 21],\n",
        "   22: [1, 2, 7, 11, 12, 20, 22],\n",
        "   23: [1, 2, 7, 11, 12, 20, 22, 23],\n",
        "   24: [1, 2, 7, 11, 12, 20, 24]}),\n",
        " ({1: 1,\n",
        "   2: 0,\n",
        "   3: 2,\n",
        "   4: 1,\n",
        "   5: 2,\n",
        "   6: 3,\n",
        "   7: 1,\n",
        "   11: 2,\n",
        "   12: 3,\n",
        "   13: 3,\n",
        "   18: 4,\n",
        "   19: 5,\n",
        "   20: 4,\n",
        "   21: 5,\n",
        "   22: 5,\n",
        "   23: 6,\n",
        "   24: 5},\n",
        "  {1: [2, 1],\n",
        "   2: [2],\n",
        "   3: [2, 1, 3],\n",
        "   4: [2, 4],\n",
        "   5: [2, 4, 5],\n",
        "   6: [2, 4, 5, 6],\n",
        "   7: [2, 7],\n",
        "   11: [2, 7, 11],\n",
        "   12: [2, 7, 11, 12],\n",
        "   13: [2, 7, 11, 13],\n",
        "   18: [2, 7, 11, 13, 18],\n",
        "   19: [2, 7, 11, 13, 18, 19],\n",
        "   20: [2, 7, 11, 12, 20],\n",
        "   21: [2, 7, 11, 12, 20, 21],\n",
        "   22: [2, 7, 11, 12, 20, 22],\n",
        "   23: [2, 7, 11, 12, 20, 22, 23],\n",
        "   24: [2, 7, 11, 12, 20, 24]}),\n",
        " ({1: 1,\n",
        "   2: 2,\n",
        "   3: 0,\n",
        "   4: 1,\n",
        "   5: 2,\n",
        "   6: 3,\n",
        "   7: 3,\n",
        "   11: 4,\n",
        "   12: 5,\n",
        "   13: 5,\n",
        "   18: 6,\n",
        "   19: 7,\n",
        "   20: 6,\n",
        "   21: 7,\n",
        "   22: 7,\n",
        "   23: 8,\n",
        "   24: 7},\n",
        "  {1: [3, 1],\n",
        "   2: [3, 1, 2],\n",
        "   3: [3],\n",
        "   4: [3, 4],\n",
        "   5: [3, 4, 5],\n",
        "   6: [3, 4, 5, 6],\n",
        "   7: [3, 1, 2, 7],\n",
        "   11: [3, 1, 2, 7, 11],\n",
        "   12: [3, 1, 2, 7, 11, 12],\n",
        "   13: [3, 1, 2, 7, 11, 13],\n",
        "   18: [3, 1, 2, 7, 11, 13, 18],\n",
        "   19: [3, 1, 2, 7, 11, 13, 18, 19],\n",
        "   20: [3, 1, 2, 7, 11, 12, 20],\n",
        "   21: [3, 1, 2, 7, 11, 12, 20, 21],\n",
        "   22: [3, 1, 2, 7, 11, 12, 20, 22],\n",
        "   23: [3, 1, 2, 7, 11, 12, 20, 22, 23],\n",
        "   24: [3, 1, 2, 7, 11, 12, 20, 24]}),\n",
        " ({1: 2,\n",
        "   2: 1,\n",
        "   3: 1,\n",
        "   4: 0,\n",
        "   5: 1,\n",
        "   6: 2,\n",
        "   7: 2,\n",
        "   11: 3,\n",
        "   12: 4,\n",
        "   13: 4,\n",
        "   18: 5,\n",
        "   19: 6,\n",
        "   20: 5,\n",
        "   21: 6,\n",
        "   22: 6,\n",
        "   23: 7,\n",
        "   24: 6},\n",
        "  {1: [4, 2, 1],\n",
        "   2: [4, 2],\n",
        "   3: [4, 3],\n",
        "   4: [4],\n",
        "   5: [4, 5],\n",
        "   6: [4, 5, 6],\n",
        "   7: [4, 2, 7],\n",
        "   11: [4, 2, 7, 11],\n",
        "   12: [4, 2, 7, 11, 12],\n",
        "   13: [4, 2, 7, 11, 13],\n",
        "   18: [4, 2, 7, 11, 13, 18],\n",
        "   19: [4, 2, 7, 11, 13, 18, 19],\n",
        "   20: [4, 2, 7, 11, 12, 20],\n",
        "   21: [4, 2, 7, 11, 12, 20, 21],\n",
        "   22: [4, 2, 7, 11, 12, 20, 22],\n",
        "   23: [4, 2, 7, 11, 12, 20, 22, 23],\n",
        "   24: [4, 2, 7, 11, 12, 20, 24]}),\n",
        " ({1: 3,\n",
        "   2: 2,\n",
        "   3: 2,\n",
        "   4: 1,\n",
        "   5: 0,\n",
        "   6: 1,\n",
        "   7: 3,\n",
        "   11: 4,\n",
        "   12: 5,\n",
        "   13: 5,\n",
        "   18: 6,\n",
        "   19: 7,\n",
        "   20: 6,\n",
        "   21: 7,\n",
        "   22: 7,\n",
        "   23: 8,\n",
        "   24: 7},\n",
        "  {1: [5, 4, 2, 1],\n",
        "   2: [5, 4, 2],\n",
        "   3: [5, 4, 3],\n",
        "   4: [5, 4],\n",
        "   5: [5],\n",
        "   6: [5, 6],\n",
        "   7: [5, 4, 2, 7],\n",
        "   11: [5, 4, 2, 7, 11],\n",
        "   12: [5, 4, 2, 7, 11, 12],\n",
        "   13: [5, 4, 2, 7, 11, 13],\n",
        "   18: [5, 4, 2, 7, 11, 13, 18],\n",
        "   19: [5, 4, 2, 7, 11, 13, 18, 19],\n",
        "   20: [5, 4, 2, 7, 11, 12, 20],\n",
        "   21: [5, 4, 2, 7, 11, 12, 20, 21],\n",
        "   22: [5, 4, 2, 7, 11, 12, 20, 22],\n",
        "   23: [5, 4, 2, 7, 11, 12, 20, 22, 23],\n",
        "   24: [5, 4, 2, 7, 11, 12, 20, 24]}),\n",
        " ({1: 4,\n",
        "   2: 3,\n",
        "   3: 3,\n",
        "   4: 2,\n",
        "   5: 1,\n",
        "   6: 0,\n",
        "   7: 4,\n",
        "   11: 5,\n",
        "   12: 6,\n",
        "   13: 6,\n",
        "   18: 7,\n",
        "   19: 8,\n",
        "   20: 7,\n",
        "   21: 8,\n",
        "   22: 8,\n",
        "   23: 9,\n",
        "   24: 8},\n",
        "  {1: [6, 5, 4, 2, 1],\n",
        "   2: [6, 5, 4, 2],\n",
        "   3: [6, 5, 4, 3],\n",
        "   4: [6, 5, 4],\n",
        "   5: [6, 5],\n",
        "   6: [6],\n",
        "   7: [6, 5, 4, 2, 7],\n",
        "   11: [6, 5, 4, 2, 7, 11],\n",
        "   12: [6, 5, 4, 2, 7, 11, 12],\n",
        "   13: [6, 5, 4, 2, 7, 11, 13],\n",
        "   18: [6, 5, 4, 2, 7, 11, 13, 18],\n",
        "   19: [6, 5, 4, 2, 7, 11, 13, 18, 19],\n",
        "   20: [6, 5, 4, 2, 7, 11, 12, 20],\n",
        "   21: [6, 5, 4, 2, 7, 11, 12, 20, 21],\n",
        "   22: [6, 5, 4, 2, 7, 11, 12, 20, 22],\n",
        "   23: [6, 5, 4, 2, 7, 11, 12, 20, 22, 23],\n",
        "   24: [6, 5, 4, 2, 7, 11, 12, 20, 24]}),\n",
        " ({1: 2,\n",
        "   2: 1,\n",
        "   3: 3,\n",
        "   4: 2,\n",
        "   5: 3,\n",
        "   6: 4,\n",
        "   7: 0,\n",
        "   11: 1,\n",
        "   12: 2,\n",
        "   13: 2,\n",
        "   18: 3,\n",
        "   19: 4,\n",
        "   20: 3,\n",
        "   21: 4,\n",
        "   22: 4,\n",
        "   23: 5,\n",
        "   24: 4},\n",
        "  {1: [7, 2, 1],\n",
        "   2: [7, 2],\n",
        "   3: [7, 2, 1, 3],\n",
        "   4: [7, 2, 4],\n",
        "   5: [7, 2, 4, 5],\n",
        "   6: [7, 2, 4, 5, 6],\n",
        "   7: [7],\n",
        "   11: [7, 11],\n",
        "   12: [7, 11, 12],\n",
        "   13: [7, 11, 13],\n",
        "   18: [7, 11, 13, 18],\n",
        "   19: [7, 11, 13, 18, 19],\n",
        "   20: [7, 11, 12, 20],\n",
        "   21: [7, 11, 12, 20, 21],\n",
        "   22: [7, 11, 12, 20, 22],\n",
        "   23: [7, 11, 12, 20, 22, 23],\n",
        "   24: [7, 11, 12, 20, 24]}),\n",
        " ({8: 0, 9: 1, 10: 1}, {8: [8], 9: [8, 9], 10: [8, 10]}),\n",
        " ({8: 1, 9: 0, 10: 1}, {8: [9, 8], 9: [9], 10: [9, 10]}),\n",
        " ({8: 1, 9: 1, 10: 0}, {8: [10, 8], 9: [10, 9], 10: [10]}),\n",
        " ({1: 3,\n",
        "   2: 2,\n",
        "   3: 4,\n",
        "   4: 3,\n",
        "   5: 4,\n",
        "   6: 5,\n",
        "   7: 1,\n",
        "   11: 0,\n",
        "   12: 1,\n",
        "   13: 1,\n",
        "   18: 2,\n",
        "   19: 3,\n",
        "   20: 2,\n",
        "   21: 3,\n",
        "   22: 3,\n",
        "   23: 4,\n",
        "   24: 3},\n",
        "  {1: [11, 7, 2, 1],\n",
        "   2: [11, 7, 2],\n",
        "   3: [11, 7, 2, 1, 3],\n",
        "   4: [11, 7, 2, 4],\n",
        "   5: [11, 7, 2, 4, 5],\n",
        "   6: [11, 7, 2, 4, 5, 6],\n",
        "   7: [11, 7],\n",
        "   11: [11],\n",
        "   12: [11, 12],\n",
        "   13: [11, 13],\n",
        "   18: [11, 13, 18],\n",
        "   19: [11, 13, 18, 19],\n",
        "   20: [11, 12, 20],\n",
        "   21: [11, 12, 20, 21],\n",
        "   22: [11, 12, 20, 22],\n",
        "   23: [11, 12, 20, 22, 23],\n",
        "   24: [11, 12, 20, 24]}),\n",
        " ({1: 4,\n",
        "   2: 3,\n",
        "   3: 5,\n",
        "   4: 4,\n",
        "   5: 5,\n",
        "   6: 6,\n",
        "   7: 2,\n",
        "   11: 1,\n",
        "   12: 0,\n",
        "   13: 1,\n",
        "   18: 2,\n",
        "   19: 2,\n",
        "   20: 1,\n",
        "   21: 2,\n",
        "   22: 2,\n",
        "   23: 3,\n",
        "   24: 2},\n",
        "  {1: [12, 11, 7, 2, 1],\n",
        "   2: [12, 11, 7, 2],\n",
        "   3: [12, 11, 7, 2, 1, 3],\n",
        "   4: [12, 11, 7, 2, 4],\n",
        "   5: [12, 11, 7, 2, 4, 5],\n",
        "   6: [12, 11, 7, 2, 4, 5, 6],\n",
        "   7: [12, 11, 7],\n",
        "   11: [12, 11],\n",
        "   12: [12],\n",
        "   13: [12, 13],\n",
        "   18: [12, 13, 18],\n",
        "   19: [12, 20, 19],\n",
        "   20: [12, 20],\n",
        "   21: [12, 20, 21],\n",
        "   22: [12, 20, 22],\n",
        "   23: [12, 20, 22, 23],\n",
        "   24: [12, 20, 24]}),\n",
        " ({1: 4,\n",
        "   2: 3,\n",
        "   3: 5,\n",
        "   4: 4,\n",
        "   5: 5,\n",
        "   6: 6,\n",
        "   7: 2,\n",
        "   11: 1,\n",
        "   12: 1,\n",
        "   13: 0,\n",
        "   18: 1,\n",
        "   19: 2,\n",
        "   20: 2,\n",
        "   21: 3,\n",
        "   22: 3,\n",
        "   23: 4,\n",
        "   24: 3},\n",
        "  {1: [13, 11, 7, 2, 1],\n",
        "   2: [13, 11, 7, 2],\n",
        "   3: [13, 11, 7, 2, 1, 3],\n",
        "   4: [13, 11, 7, 2, 4],\n",
        "   5: [13, 11, 7, 2, 4, 5],\n",
        "   6: [13, 11, 7, 2, 4, 5, 6],\n",
        "   7: [13, 11, 7],\n",
        "   11: [13, 11],\n",
        "   12: [13, 12],\n",
        "   13: [13],\n",
        "   18: [13, 18],\n",
        "   19: [13, 18, 19],\n",
        "   20: [13, 12, 20],\n",
        "   21: [13, 18, 19, 21],\n",
        "   22: [13, 12, 20, 22],\n",
        "   23: [13, 12, 20, 22, 23],\n",
        "   24: [13, 12, 20, 24]}),\n",
        " ({14: 0, 15: 1, 16: 2}, {14: [14], 15: [14, 15], 16: [14, 15, 16]}),\n",
        " ({14: 1, 15: 0, 16: 1}, {14: [15, 14], 15: [15], 16: [15, 16]}),\n",
        " ({14: 2, 15: 1, 16: 0}, {14: [16, 15, 14], 15: [16, 15], 16: [16]}),\n",
        " ({17: 0}, {17: [17]}),\n",
        " ({1: 5,\n",
        "   2: 4,\n",
        "   3: 6,\n",
        "   4: 5,\n",
        "   5: 6,\n",
        "   6: 7,\n",
        "   7: 3,\n",
        "   11: 2,\n",
        "   12: 2,\n",
        "   13: 1,\n",
        "   18: 0,\n",
        "   19: 1,\n",
        "   20: 2,\n",
        "   21: 2,\n",
        "   22: 3,\n",
        "   23: 4,\n",
        "   24: 3},\n",
        "  {1: [18, 13, 11, 7, 2, 1],\n",
        "   2: [18, 13, 11, 7, 2],\n",
        "   3: [18, 13, 11, 7, 2, 1, 3],\n",
        "   4: [18, 13, 11, 7, 2, 4],\n",
        "   5: [18, 13, 11, 7, 2, 4, 5],\n",
        "   6: [18, 13, 11, 7, 2, 4, 5, 6],\n",
        "   7: [18, 13, 11, 7],\n",
        "   11: [18, 13, 11],\n",
        "   12: [18, 13, 12],\n",
        "   13: [18, 13],\n",
        "   18: [18],\n",
        "   19: [18, 19],\n",
        "   20: [18, 19, 20],\n",
        "   21: [18, 19, 21],\n",
        "   22: [18, 19, 20, 22],\n",
        "   23: [18, 19, 20, 22, 23],\n",
        "   24: [18, 19, 20, 24]}),\n",
        " ({1: 6,\n",
        "   2: 5,\n",
        "   3: 7,\n",
        "   4: 6,\n",
        "   5: 7,\n",
        "   6: 8,\n",
        "   7: 4,\n",
        "   11: 3,\n",
        "   12: 2,\n",
        "   13: 2,\n",
        "   18: 1,\n",
        "   19: 0,\n",
        "   20: 1,\n",
        "   21: 1,\n",
        "   22: 2,\n",
        "   23: 3,\n",
        "   24: 2},\n",
        "  {1: [19, 20, 12, 11, 7, 2, 1],\n",
        "   2: [19, 20, 12, 11, 7, 2],\n",
        "   3: [19, 20, 12, 11, 7, 2, 1, 3],\n",
        "   4: [19, 20, 12, 11, 7, 2, 4],\n",
        "   5: [19, 20, 12, 11, 7, 2, 4, 5],\n",
        "   6: [19, 20, 12, 11, 7, 2, 4, 5, 6],\n",
        "   7: [19, 20, 12, 11, 7],\n",
        "   11: [19, 20, 12, 11],\n",
        "   12: [19, 20, 12],\n",
        "   13: [19, 18, 13],\n",
        "   18: [19, 18],\n",
        "   19: [19],\n",
        "   20: [19, 20],\n",
        "   21: [19, 21],\n",
        "   22: [19, 20, 22],\n",
        "   23: [19, 20, 22, 23],\n",
        "   24: [19, 20, 24]}),\n",
        " ({1: 5,\n",
        "   2: 4,\n",
        "   3: 6,\n",
        "   4: 5,\n",
        "   5: 6,\n",
        "   6: 7,\n",
        "   7: 3,\n",
        "   11: 2,\n",
        "   12: 1,\n",
        "   13: 2,\n",
        "   18: 2,\n",
        "   19: 1,\n",
        "   20: 0,\n",
        "   21: 1,\n",
        "   22: 1,\n",
        "   23: 2,\n",
        "   24: 1},\n",
        "  {1: [20, 12, 11, 7, 2, 1],\n",
        "   2: [20, 12, 11, 7, 2],\n",
        "   3: [20, 12, 11, 7, 2, 1, 3],\n",
        "   4: [20, 12, 11, 7, 2, 4],\n",
        "   5: [20, 12, 11, 7, 2, 4, 5],\n",
        "   6: [20, 12, 11, 7, 2, 4, 5, 6],\n",
        "   7: [20, 12, 11, 7],\n",
        "   11: [20, 12, 11],\n",
        "   12: [20, 12],\n",
        "   13: [20, 12, 13],\n",
        "   18: [20, 19, 18],\n",
        "   19: [20, 19],\n",
        "   20: [20],\n",
        "   21: [20, 21],\n",
        "   22: [20, 22],\n",
        "   23: [20, 22, 23],\n",
        "   24: [20, 24]}),\n",
        " ({1: 6,\n",
        "   2: 5,\n",
        "   3: 7,\n",
        "   4: 6,\n",
        "   5: 7,\n",
        "   6: 8,\n",
        "   7: 4,\n",
        "   11: 3,\n",
        "   12: 2,\n",
        "   13: 3,\n",
        "   18: 2,\n",
        "   19: 1,\n",
        "   20: 1,\n",
        "   21: 0,\n",
        "   22: 2,\n",
        "   23: 3,\n",
        "   24: 2},\n",
        "  {1: [21, 20, 12, 11, 7, 2, 1],\n",
        "   2: [21, 20, 12, 11, 7, 2],\n",
        "   3: [21, 20, 12, 11, 7, 2, 1, 3],\n",
        "   4: [21, 20, 12, 11, 7, 2, 4],\n",
        "   5: [21, 20, 12, 11, 7, 2, 4, 5],\n",
        "   6: [21, 20, 12, 11, 7, 2, 4, 5, 6],\n",
        "   7: [21, 20, 12, 11, 7],\n",
        "   11: [21, 20, 12, 11],\n",
        "   12: [21, 20, 12],\n",
        "   13: [21, 20, 12, 13],\n",
        "   18: [21, 19, 18],\n",
        "   19: [21, 19],\n",
        "   20: [21, 20],\n",
        "   21: [21],\n",
        "   22: [21, 20, 22],\n",
        "   23: [21, 20, 22, 23],\n",
        "   24: [21, 20, 24]}),\n",
        " ({1: 6,\n",
        "   2: 5,\n",
        "   3: 7,\n",
        "   4: 6,\n",
        "   5: 7,\n",
        "   6: 8,\n",
        "   7: 4,\n",
        "   11: 3,\n",
        "   12: 2,\n",
        "   13: 3,\n",
        "   18: 3,\n",
        "   19: 2,\n",
        "   20: 1,\n",
        "   21: 2,\n",
        "   22: 0,\n",
        "   23: 1,\n",
        "   24: 2},\n",
        "  {1: [22, 20, 12, 11, 7, 2, 1],\n",
        "   2: [22, 20, 12, 11, 7, 2],\n",
        "   3: [22, 20, 12, 11, 7, 2, 1, 3],\n",
        "   4: [22, 20, 12, 11, 7, 2, 4],\n",
        "   5: [22, 20, 12, 11, 7, 2, 4, 5],\n",
        "   6: [22, 20, 12, 11, 7, 2, 4, 5, 6],\n",
        "   7: [22, 20, 12, 11, 7],\n",
        "   11: [22, 20, 12, 11],\n",
        "   12: [22, 20, 12],\n",
        "   13: [22, 20, 12, 13],\n",
        "   18: [22, 20, 19, 18],\n",
        "   19: [22, 20, 19],\n",
        "   20: [22, 20],\n",
        "   21: [22, 20, 21],\n",
        "   22: [22],\n",
        "   23: [22, 23],\n",
        "   24: [22, 20, 24]}),\n",
        " ({1: 7,\n",
        "   2: 6,\n",
        "   3: 8,\n",
        "   4: 7,\n",
        "   5: 8,\n",
        "   6: 9,\n",
        "   7: 5,\n",
        "   11: 4,\n",
        "   12: 3,\n",
        "   13: 4,\n",
        "   18: 4,\n",
        "   19: 3,\n",
        "   20: 2,\n",
        "   21: 3,\n",
        "   22: 1,\n",
        "   23: 0,\n",
        "   24: 1},\n",
        "  {1: [23, 22, 20, 12, 11, 7, 2, 1],\n",
        "   2: [23, 22, 20, 12, 11, 7, 2],\n",
        "   3: [23, 22, 20, 12, 11, 7, 2, 1, 3],\n",
        "   4: [23, 22, 20, 12, 11, 7, 2, 4],\n",
        "   5: [23, 22, 20, 12, 11, 7, 2, 4, 5],\n",
        "   6: [23, 22, 20, 12, 11, 7, 2, 4, 5, 6],\n",
        "   7: [23, 22, 20, 12, 11, 7],\n",
        "   11: [23, 22, 20, 12, 11],\n",
        "   12: [23, 22, 20, 12],\n",
        "   13: [23, 22, 20, 12, 13],\n",
        "   18: [23, 22, 20, 19, 18],\n",
        "   19: [23, 22, 20, 19],\n",
        "   20: [23, 22, 20],\n",
        "   21: [23, 22, 20, 21],\n",
        "   22: [23, 22],\n",
        "   23: [23],\n",
        "   24: [23, 24]}),\n",
        " ({1: 6,\n",
        "   2: 5,\n",
        "   3: 7,\n",
        "   4: 6,\n",
        "   5: 7,\n",
        "   6: 8,\n",
        "   7: 4,\n",
        "   11: 3,\n",
        "   12: 2,\n",
        "   13: 3,\n",
        "   18: 3,\n",
        "   19: 2,\n",
        "   20: 1,\n",
        "   21: 2,\n",
        "   22: 2,\n",
        "   23: 1,\n",
        "   24: 0},\n",
        "  {1: [24, 20, 12, 11, 7, 2, 1],\n",
        "   2: [24, 20, 12, 11, 7, 2],\n",
        "   3: [24, 20, 12, 11, 7, 2, 1, 3],\n",
        "   4: [24, 20, 12, 11, 7, 2, 4],\n",
        "   5: [24, 20, 12, 11, 7, 2, 4, 5],\n",
        "   6: [24, 20, 12, 11, 7, 2, 4, 5, 6],\n",
        "   7: [24, 20, 12, 11, 7],\n",
        "   11: [24, 20, 12, 11],\n",
        "   12: [24, 20, 12],\n",
        "   13: [24, 20, 12, 13],\n",
        "   18: [24, 20, 19, 18],\n",
        "   19: [24, 20, 19],\n",
        "   20: [24, 20],\n",
        "   21: [24, 20, 21],\n",
        "   22: [24, 20, 22],\n",
        "   23: [24, 23],\n",
        "   24: [24]}),\n",
        " ({25: 0, 26: 1, 27: 1}, {25: [25], 26: [25, 26], 27: [25, 27]}),\n",
        " ({25: 1, 26: 0, 27: 1}, {25: [26, 25], 26: [26], 27: [26, 27]}),\n",
        " ({25: 1, 26: 1, 27: 0}, {25: [27, 25], 26: [27, 26], 27: [27]})]"
       ]
      }
     ],
     "prompt_number": 8
    },
    {
     "cell_type": "code",
     "collapsed": false,
     "input": [
      "# remove filaments first\n",
      "# v1 v2 v3 .. vv   where v1 and vv are either end points or branch points\n",
      "# and v2 v3 .. upto vv-a all have incidence  = 2"
     ],
     "language": "python",
     "metadata": {},
     "outputs": [],
     "prompt_number": 9
    },
    {
     "cell_type": "code",
     "collapsed": false,
     "input": [
      "# manually for now. jay working on primatives"
     ],
     "language": "python",
     "metadata": {},
     "outputs": [],
     "prompt_number": 10
    },
    {
     "cell_type": "code",
     "collapsed": false,
     "input": [
      "vertices[2].remove(7)"
     ],
     "language": "python",
     "metadata": {},
     "outputs": [],
     "prompt_number": 11
    },
    {
     "cell_type": "code",
     "collapsed": false,
     "input": [
      "vertices[7].remove(2)\n",
      "vertices[7].remove(11)\n",
      "vertices[11].remove(7)"
     ],
     "language": "python",
     "metadata": {},
     "outputs": [],
     "prompt_number": 12
    },
    {
     "cell_type": "code",
     "collapsed": false,
     "input": [
      "vertices[4].remove(5)\n",
      "vertices[5].remove(4)\n",
      "vertices[6].remove(5)\n",
      "vertices[5].remove(6)"
     ],
     "language": "python",
     "metadata": {},
     "outputs": [],
     "prompt_number": 13
    },
    {
     "cell_type": "code",
     "collapsed": false,
     "input": [
      "del vertices[0]"
     ],
     "language": "python",
     "metadata": {},
     "outputs": [],
     "prompt_number": 14
    },
    {
     "cell_type": "code",
     "collapsed": false,
     "input": [
      "del vertices[6]\n",
      "del vertices[5]\n",
      "del vertices[7]\n",
      "del vertices[14]\n",
      "del vertices[15]\n",
      "del vertices[16]"
     ],
     "language": "python",
     "metadata": {},
     "outputs": [],
     "prompt_number": 15
    },
    {
     "cell_type": "code",
     "collapsed": false,
     "input": [
      "vertices"
     ],
     "language": "python",
     "metadata": {},
     "outputs": [
      {
       "output_type": "pyout",
       "prompt_number": 16,
       "text": [
        "{1: [2, 3],\n",
        " 2: [1, 4],\n",
        " 3: [1, 4],\n",
        " 4: [2, 3],\n",
        " 8: [9, 10],\n",
        " 9: [8, 10],\n",
        " 10: [8, 9],\n",
        " 11: [12, 13],\n",
        " 12: [11, 13, 20],\n",
        " 13: [11, 12, 18],\n",
        " 17: [],\n",
        " 18: [13, 19],\n",
        " 19: [18, 20, 21],\n",
        " 20: [12, 19, 21, 22, 24],\n",
        " 21: [19, 20],\n",
        " 22: [20, 23],\n",
        " 23: [22, 24],\n",
        " 24: [20, 23],\n",
        " 25: [26, 27],\n",
        " 26: [25, 27],\n",
        " 27: [25, 26]}"
       ]
      }
     ],
     "prompt_number": 16
    },
    {
     "cell_type": "code",
     "collapsed": false,
     "input": [
      "G = nx.Graph(vertices)"
     ],
     "language": "python",
     "metadata": {},
     "outputs": [],
     "prompt_number": 17
    },
    {
     "cell_type": "code",
     "collapsed": false,
     "input": [
      "sps = [ nx.single_source_dijkstra(G,n) for n in G.nodes()]"
     ],
     "language": "python",
     "metadata": {},
     "outputs": [],
     "prompt_number": 18
    },
    {
     "cell_type": "code",
     "collapsed": false,
     "input": [
      "sps[0]"
     ],
     "language": "python",
     "metadata": {},
     "outputs": [
      {
       "output_type": "pyout",
       "prompt_number": 19,
       "text": [
        "({1: 0, 2: 1, 3: 1, 4: 2}, {1: [1], 2: [1, 2], 3: [1, 3], 4: [1, 2, 4]})"
       ]
      }
     ],
     "prompt_number": 19
    },
    {
     "cell_type": "code",
     "collapsed": false,
     "input": [
      "sp0 = sps[0]"
     ],
     "language": "python",
     "metadata": {},
     "outputs": [],
     "prompt_number": 20
    },
    {
     "cell_type": "code",
     "collapsed": false,
     "input": [
      "sp0"
     ],
     "language": "python",
     "metadata": {},
     "outputs": [
      {
       "output_type": "pyout",
       "prompt_number": 21,
       "text": [
        "({1: 0, 2: 1, 3: 1, 4: 2}, {1: [1], 2: [1, 2], 3: [1, 3], 4: [1, 2, 4]})"
       ]
      }
     ],
     "prompt_number": 21
    },
    {
     "cell_type": "code",
     "collapsed": false,
     "input": [
      "dests = [ d for d in sp0[0].keys() if sp0[0][d] != 0]"
     ],
     "language": "python",
     "metadata": {},
     "outputs": [],
     "prompt_number": 22
    },
    {
     "cell_type": "code",
     "collapsed": false,
     "input": [
      "import itertools"
     ],
     "language": "python",
     "metadata": {},
     "outputs": [],
     "prompt_number": 23
    },
    {
     "cell_type": "code",
     "collapsed": false,
     "input": [
      "edges = [edge for edge in itertools.combinations(dests, 2) if G.has_edge(edge[0],edge[1])]\n",
      "\n"
     ],
     "language": "python",
     "metadata": {},
     "outputs": [],
     "prompt_number": 24
    },
    {
     "cell_type": "code",
     "collapsed": false,
     "input": [
      "edges"
     ],
     "language": "python",
     "metadata": {},
     "outputs": [
      {
       "output_type": "pyout",
       "prompt_number": 25,
       "text": [
        "[(2, 4), (3, 4)]"
       ]
      }
     ],
     "prompt_number": 25
    },
    {
     "cell_type": "code",
     "collapsed": false,
     "input": [
      "paths = sp0[1]"
     ],
     "language": "python",
     "metadata": {},
     "outputs": [],
     "prompt_number": 26
    },
    {
     "cell_type": "code",
     "collapsed": false,
     "input": [
      "v = 1\n",
      "cycles = []\n",
      "for e in edges:\n",
      "    x,y = e\n",
      "    sx = set(paths[x])\n",
      "    sy = set(paths[y])\n",
      "    if len(sx.intersection(sy))==1:\n",
      "        start = v\n",
      "        lp = len(sx)+len(sy)-1\n",
      "        cycles.append((lp,v,e,sx,sy))\n",
      "        "
     ],
     "language": "python",
     "metadata": {},
     "outputs": [],
     "prompt_number": 27
    },
    {
     "cell_type": "code",
     "collapsed": false,
     "input": [
      "cycles"
     ],
     "language": "python",
     "metadata": {},
     "outputs": [
      {
       "output_type": "pyout",
       "prompt_number": 28,
       "text": [
        "[(4, 1, (3, 4), set([1, 3]), set([1, 2, 4]))]"
       ]
      }
     ],
     "prompt_number": 28
    },
    {
     "cell_type": "code",
     "collapsed": false,
     "input": [
      "cycles=[]\n",
      "d ={}\n",
      "for row in sps:\n",
      "    lengths,paths = row\n",
      "    keys = lengths.keys()\n",
      "    v = [k for k in keys if  lengths[k] == 0][0]\n",
      "    keys.remove(v)\n",
      "    edges = [edge for edge in itertools.combinations(keys, 2) if G.has_edge(edge[0],edge[1])]\n",
      "    for edge in edges:\n",
      "        x,y = edge\n",
      "        sx = set(paths[x])\n",
      "        sy = set(paths[y])\n",
      "        if len(sx.intersection(sy))==1:\n",
      "            len_path = len(sx)+len(sy)-1\n",
      "            sxsy = tuple(sx.union(sy))\n",
      "            if sxsy not in d:\n",
      "                d[sxsy] = len_path\n",
      "            else:\n",
      "                if len_path < d[sxsy]:\n",
      "                    d[sxsy] = len_path\n",
      "            cycles.append((len_path,v,edge,sx,sy, sxsy))\n",
      "    "
     ],
     "language": "python",
     "metadata": {},
     "outputs": [],
     "prompt_number": 29
    },
    {
     "cell_type": "code",
     "collapsed": false,
     "input": [
      "d"
     ],
     "language": "python",
     "metadata": {},
     "outputs": [
      {
       "output_type": "pyout",
       "prompt_number": 30,
       "text": [
        "{(1, 2, 3, 4): 4,\n",
        " (8, 9, 10): 3,\n",
        " (11, 12, 13): 3,\n",
        " (11, 12, 13, 18, 19, 20, 21): 7,\n",
        " (18, 19, 20, 11, 12, 13): 6,\n",
        " (18, 19, 20, 12, 13): 5,\n",
        " (18, 19, 20, 21, 12, 13): 6,\n",
        " (19, 20, 21): 3,\n",
        " (24, 20, 22, 23): 4,\n",
        " (25, 26, 27): 3}"
       ]
      }
     ],
     "prompt_number": 30
    },
    {
     "cell_type": "code",
     "collapsed": false,
     "input": [
      "len(sx)"
     ],
     "language": "python",
     "metadata": {},
     "outputs": [
      {
       "output_type": "pyout",
       "prompt_number": 31,
       "text": [
        "2"
       ]
      }
     ],
     "prompt_number": 31
    },
    {
     "cell_type": "code",
     "collapsed": false,
     "input": [
      "cycs = d.keys()"
     ],
     "language": "python",
     "metadata": {},
     "outputs": [],
     "prompt_number": 32
    },
    {
     "cell_type": "code",
     "collapsed": false,
     "input": [
      "cycs"
     ],
     "language": "python",
     "metadata": {},
     "outputs": [
      {
       "output_type": "pyout",
       "prompt_number": 33,
       "text": [
        "[(8, 9, 10),\n",
        " (1, 2, 3, 4),\n",
        " (24, 20, 22, 23),\n",
        " (19, 20, 21),\n",
        " (11, 12, 13),\n",
        " (11, 12, 13, 18, 19, 20, 21),\n",
        " (25, 26, 27),\n",
        " (18, 19, 20, 21, 12, 13),\n",
        " (18, 19, 20, 12, 13),\n",
        " (18, 19, 20, 11, 12, 13)]"
       ]
      }
     ],
     "prompt_number": 33
    },
    {
     "cell_type": "code",
     "collapsed": false,
     "input": [
      "s_cycles = [ set(c) for c in d.keys() ]"
     ],
     "language": "python",
     "metadata": {},
     "outputs": [],
     "prompt_number": 34
    },
    {
     "cell_type": "code",
     "collapsed": false,
     "input": [
      "s_cycles"
     ],
     "language": "python",
     "metadata": {},
     "outputs": [
      {
       "output_type": "pyout",
       "prompt_number": 35,
       "text": [
        "[set([8, 9, 10]),\n",
        " set([1, 2, 3, 4]),\n",
        " set([24, 20, 22, 23]),\n",
        " set([19, 20, 21]),\n",
        " set([11, 12, 13]),\n",
        " set([11, 12, 13, 18, 19, 20, 21]),\n",
        " set([25, 26, 27]),\n",
        " set([12, 13, 18, 19, 20, 21]),\n",
        " set([12, 18, 19, 20, 13]),\n",
        " set([11, 12, 13, 18, 19, 20])]"
       ]
      }
     ],
     "prompt_number": 35
    },
    {
     "cell_type": "code",
     "collapsed": false,
     "input": [
      "keep = [1]*len(s_cycles)\n",
      "for i,c in enumerate(s_cycles):\n",
      "    for j,jc in enumerate(s_cycles):\n",
      "        if j!=i and jc.intersection(c) == c:\n",
      "            keep[j] = 0\n",
      "for i,k in enumerate(keep):\n",
      "    if keep[i]==1:\n",
      "        print s_cycles[i]"
     ],
     "language": "python",
     "metadata": {},
     "outputs": [
      {
       "output_type": "stream",
       "stream": "stdout",
       "text": [
        "set([8, 9, 10])\n",
        "set([1, 2, 3, 4])\n",
        "set([24, 20, 22, 23])\n",
        "set([19, 20, 21])\n",
        "set([11, 12, 13])\n",
        "set([25, 26, 27])\n",
        "set([12, 18, 19, 20, 13])\n"
       ]
      }
     ],
     "prompt_number": 36
    },
    {
     "cell_type": "code",
     "collapsed": false,
     "input": [
      "keep"
     ],
     "language": "python",
     "metadata": {},
     "outputs": [
      {
       "output_type": "pyout",
       "prompt_number": 37,
       "text": [
        "[1, 1, 1, 1, 1, 0, 1, 0, 1, 0]"
       ]
      }
     ],
     "prompt_number": 37
    },
    {
     "cell_type": "code",
     "collapsed": false,
     "input": [
      "# this is working. can likely be optimized\n",
      "# uses algorithm from Horton (1987) \"A polynomial-time algorithm to find the shortest cycle basis of a graph\" SIAM J. Comput: 16(2) 358-366\n",
      "def min_cycles(G):\n",
      "    sps = [ nx.single_source_dijkstra(G,n) for n in G.nodes()]\n",
      "    cycles=[]\n",
      "    d ={}\n",
      "    for row in sps:\n",
      "        lengths,paths = row\n",
      "        keys = lengths.keys()\n",
      "        v = [k for k in keys if  lengths[k] == 0][0]\n",
      "        keys.remove(v)\n",
      "        edges = [edge for edge in itertools.combinations(keys, 2) if G.has_edge(edge[0],edge[1])]\n",
      "        for edge in edges:\n",
      "            x,y = edge\n",
      "            sx = set(paths[x])\n",
      "            sy = set(paths[y])\n",
      "            if len(sx.intersection(sy))==1:\n",
      "                len_path = len(sx)+len(sy)-1\n",
      "                sxsy = tuple(sx.union(sy))\n",
      "                if sxsy not in d:\n",
      "                    d[sxsy] = len_path\n",
      "                else:\n",
      "                    if len_path < d[sxsy]:\n",
      "                        d[sxsy] = len_path\n",
      "                cycles.append((len_path,v,edge,sx,sy, sxsy))\n",
      "    s_cycles = [ set(c) for c in d.keys() ]\n",
      "    keep = [1]*len(s_cycles)\n",
      "    for i,c in enumerate(s_cycles):\n",
      "        for j,jc in enumerate(s_cycles):\n",
      "            if j!=i and jc.intersection(c) == c:\n",
      "                keep[j] = 0\n",
      "    cycles = [ s_cycles[i] for i,k in enumerate(keep) if k==1]\n",
      "    return cycles\n",
      "    "
     ],
     "language": "python",
     "metadata": {},
     "outputs": [],
     "prompt_number": 38
    },
    {
     "cell_type": "code",
     "collapsed": false,
     "input": [
      "min_cycles(G)"
     ],
     "language": "python",
     "metadata": {},
     "outputs": [
      {
       "output_type": "pyout",
       "prompt_number": 39,
       "text": [
        "[set([8, 9, 10]),\n",
        " set([1, 2, 3, 4]),\n",
        " set([24, 20, 22, 23]),\n",
        " set([19, 20, 21]),\n",
        " set([11, 12, 13]),\n",
        " set([25, 26, 27]),\n",
        " set([12, 18, 19, 20, 13])]"
       ]
      }
     ],
     "prompt_number": 39
    },
    {
     "cell_type": "code",
     "collapsed": false,
     "input": [
      "import pysal as ps\n",
      "g9 = nx.Graph(ps.lat2W(3,3).neighbors)"
     ],
     "language": "python",
     "metadata": {},
     "outputs": [],
     "prompt_number": 40
    },
    {
     "cell_type": "code",
     "collapsed": false,
     "input": [
      "g9.nodes()"
     ],
     "language": "python",
     "metadata": {},
     "outputs": [
      {
       "output_type": "pyout",
       "prompt_number": 41,
       "text": [
        "[0, 1, 2, 3, 4, 5, 6, 7, 8]"
       ]
      }
     ],
     "prompt_number": 41
    },
    {
     "cell_type": "code",
     "collapsed": false,
     "input": [
      "min_cycles(g9)"
     ],
     "language": "python",
     "metadata": {},
     "outputs": [
      {
       "output_type": "pyout",
       "prompt_number": 42,
       "text": [
        "[set([8, 4, 5, 7]), set([0, 1, 3, 4]), set([3, 4, 6, 7]), set([1, 2, 4, 5])]"
       ]
      }
     ],
     "prompt_number": 42
    },
    {
     "cell_type": "code",
     "collapsed": false,
     "input": [
      "g25 = nx.Graph(ps.lat2W(5,5).neighbors)"
     ],
     "language": "python",
     "metadata": {},
     "outputs": [],
     "prompt_number": 43
    },
    {
     "cell_type": "code",
     "collapsed": false,
     "input": [
      "c25 = min_cycles(g25)"
     ],
     "language": "python",
     "metadata": {},
     "outputs": [],
     "prompt_number": 44
    },
    {
     "cell_type": "code",
     "collapsed": false,
     "input": [
      "c25"
     ],
     "language": "python",
     "metadata": {},
     "outputs": [
      {
       "output_type": "pyout",
       "prompt_number": 45,
       "text": [
        "[set([24, 18, 19, 23]),\n",
        " set([0, 1, 5, 6]),\n",
        " set([11, 12, 6, 7]),\n",
        " set([17, 18, 12, 13]),\n",
        " set([8, 2, 3, 7]),\n",
        " set([10, 11, 5, 6]),\n",
        " set([8, 9, 13, 14]),\n",
        " set([1, 2, 6, 7]),\n",
        " set([16, 17, 11, 12]),\n",
        " set([8, 12, 13, 7]),\n",
        " set([16, 10, 11, 15]),\n",
        " set([17, 18, 22, 23]),\n",
        " set([16, 20, 21, 15]),\n",
        " set([18, 19, 13, 14]),\n",
        " set([16, 17, 21, 22]),\n",
        " set([8, 9, 3, 4])]"
       ]
      }
     ],
     "prompt_number": 45
    },
    {
     "cell_type": "code",
     "collapsed": false,
     "input": [
      "len(c25)"
     ],
     "language": "python",
     "metadata": {},
     "outputs": [
      {
       "output_type": "pyout",
       "prompt_number": 46,
       "text": [
        "16"
       ]
      }
     ],
     "prompt_number": 46
    },
    {
     "cell_type": "code",
     "collapsed": false,
     "input": [
      "# now with filaments\n",
      "lat = ps.lat2W(5,5).neighbors"
     ],
     "language": "python",
     "metadata": {},
     "outputs": [],
     "prompt_number": 52
    },
    {
     "cell_type": "code",
     "collapsed": false,
     "input": [
      "lat = (lat.keys(),lat.values()) "
     ],
     "language": "python",
     "metadata": {},
     "outputs": [],
     "prompt_number": 53
    },
    {
     "cell_type": "code",
     "collapsed": false,
     "input": [
      "lat = dict(zip(lat[0],lat[1]))"
     ],
     "language": "python",
     "metadata": {},
     "outputs": [],
     "prompt_number": 56
    },
    {
     "cell_type": "code",
     "collapsed": false,
     "input": [
      "lat"
     ],
     "language": "python",
     "metadata": {},
     "outputs": [
      {
       "output_type": "pyout",
       "prompt_number": 57,
       "text": [
        "{0: [5, 1],\n",
        " 1: [0, 6, 2],\n",
        " 2: [1, 7, 3],\n",
        " 3: [2, 8, 4],\n",
        " 4: [3, 9],\n",
        " 5: [0, 10, 6],\n",
        " 6: [1, 5, 11, 7],\n",
        " 7: [2, 6, 12, 8],\n",
        " 8: [3, 7, 13, 9],\n",
        " 9: [4, 8, 14],\n",
        " 10: [5, 15, 11],\n",
        " 11: [6, 10, 16, 12],\n",
        " 12: [7, 11, 17, 13],\n",
        " 13: [8, 12, 18, 14],\n",
        " 14: [9, 13, 19],\n",
        " 15: [10, 20, 16],\n",
        " 16: [11, 15, 21, 17],\n",
        " 17: [12, 16, 22, 18],\n",
        " 18: [13, 17, 23, 19],\n",
        " 19: [14, 18, 24],\n",
        " 20: [15, 21],\n",
        " 21: [16, 20, 22],\n",
        " 22: [17, 21, 23],\n",
        " 23: [18, 22, 24],\n",
        " 24: [19, 23]}"
       ]
      }
     ],
     "prompt_number": 57
    },
    {
     "cell_type": "code",
     "collapsed": false,
     "input": [
      "lat[25] = [24, 26]\n",
      "lat[24] = [19, 23, 25]\n",
      "lat[26] = [25]"
     ],
     "language": "python",
     "metadata": {},
     "outputs": [],
     "prompt_number": 58
    },
    {
     "cell_type": "code",
     "collapsed": false,
     "input": [
      "lat"
     ],
     "language": "python",
     "metadata": {},
     "outputs": [
      {
       "output_type": "pyout",
       "prompt_number": 59,
       "text": [
        "{0: [5, 1],\n",
        " 1: [0, 6, 2],\n",
        " 2: [1, 7, 3],\n",
        " 3: [2, 8, 4],\n",
        " 4: [3, 9],\n",
        " 5: [0, 10, 6],\n",
        " 6: [1, 5, 11, 7],\n",
        " 7: [2, 6, 12, 8],\n",
        " 8: [3, 7, 13, 9],\n",
        " 9: [4, 8, 14],\n",
        " 10: [5, 15, 11],\n",
        " 11: [6, 10, 16, 12],\n",
        " 12: [7, 11, 17, 13],\n",
        " 13: [8, 12, 18, 14],\n",
        " 14: [9, 13, 19],\n",
        " 15: [10, 20, 16],\n",
        " 16: [11, 15, 21, 17],\n",
        " 17: [12, 16, 22, 18],\n",
        " 18: [13, 17, 23, 19],\n",
        " 19: [14, 18, 24],\n",
        " 20: [15, 21],\n",
        " 21: [16, 20, 22],\n",
        " 22: [17, 21, 23],\n",
        " 23: [18, 22, 24],\n",
        " 24: [19, 23, 25],\n",
        " 25: [24, 26],\n",
        " 26: [25]}"
       ]
      }
     ],
     "prompt_number": 59
    },
    {
     "cell_type": "code",
     "collapsed": false,
     "input": [
      "g = nx.Graph(lat)"
     ],
     "language": "python",
     "metadata": {},
     "outputs": [],
     "prompt_number": 60
    },
    {
     "cell_type": "code",
     "collapsed": false,
     "input": [
      "min_cycles(g)"
     ],
     "language": "python",
     "metadata": {},
     "outputs": [
      {
       "output_type": "pyout",
       "prompt_number": 61,
       "text": [
        "[set([24, 18, 19, 23]),\n",
        " set([0, 1, 5, 6]),\n",
        " set([11, 12, 6, 7]),\n",
        " set([17, 18, 12, 13]),\n",
        " set([8, 2, 3, 7]),\n",
        " set([10, 11, 5, 6]),\n",
        " set([8, 9, 13, 14]),\n",
        " set([1, 2, 6, 7]),\n",
        " set([16, 17, 11, 12]),\n",
        " set([8, 12, 13, 7]),\n",
        " set([16, 10, 11, 15]),\n",
        " set([17, 18, 22, 23]),\n",
        " set([16, 20, 21, 15]),\n",
        " set([18, 19, 13, 14]),\n",
        " set([16, 17, 21, 22]),\n",
        " set([8, 9, 3, 4])]"
       ]
      }
     ],
     "prompt_number": 61
    },
    {
     "cell_type": "code",
     "collapsed": false,
     "input": [],
     "language": "python",
     "metadata": {},
     "outputs": []
    }
   ],
   "metadata": {}
  }
 ]
}