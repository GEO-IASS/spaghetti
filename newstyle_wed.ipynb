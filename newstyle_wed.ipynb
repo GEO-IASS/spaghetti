{
 "metadata": {
  "name": "newstyle_wed"
 },
 "nbformat": 3,
 "nbformat_minor": 0,
 "worksheets": [
  {
   "cells": [
    {
     "cell_type": "code",
     "collapsed": false,
     "input": [
      "try:\n",
      "    reload(data)\n",
      "except:\n",
      "    import data\n",
      "\n",
      "try:\n",
      "    reload(fileio)\n",
      "except:\n",
      "    import fileio\n",
      "\n",
      "try:\n",
      "    reload(util)\n",
      "except:\n",
      "    import util\n",
      "\n",
      "try:\n",
      "    reload(networkw)\n",
      "except:\n",
      "    import networkw\n",
      "import pysal as ps"
     ],
     "language": "python",
     "metadata": {},
     "outputs": [],
     "prompt_number": 75
    },
    {
     "cell_type": "code",
     "collapsed": false,
     "input": [
      "coords, edges = fileio.reader(ps.examples.get_path(\"streets_net.shp\"))\n",
      "s_wed = data.WED(edges, coords)"
     ],
     "language": "python",
     "metadata": {},
     "outputs": [],
     "prompt_number": 76
    },
    {
     "cell_type": "code",
     "collapsed": false,
     "input": [
      "print util.enum_edges_region(s_wed, 2)"
     ],
     "language": "python",
     "metadata": {},
     "outputs": [
      {
       "output_type": "stream",
       "stream": "stdout",
       "text": [
        "[(33, 34), (34, 35), (35, 136), (136, 198), (135, 136), (135, 194), (143, 135), (143, 141), (141, 196), (196, 133), (133, 132), (132, 134), (134, 177), (177, 156), (156, 157), (157, 158), (158, 159), (159, 153), (153, 33), (33, 34)]\n"
       ]
      }
     ],
     "prompt_number": 77
    },
    {
     "cell_type": "code",
     "collapsed": false,
     "input": [
      "print s_wed.enum_edges_region(2)"
     ],
     "language": "python",
     "metadata": {},
     "outputs": [
      {
       "output_type": "stream",
       "stream": "stdout",
       "text": [
        "[(33, 34), (34, 35), (35, 136), (136, 198), (135, 136), (135, 194), (143, 135), (143, 141), (141, 196), (196, 133), (133, 132), (132, 134), (134, 177), (177, 156), (156, 157), (157, 158), (158, 159), (159, 153), (153, 33), (33, 34)]\n"
       ]
      }
     ],
     "prompt_number": 78
    },
    {
     "cell_type": "code",
     "collapsed": false,
     "input": [
      "print util.enum_links_node(s_wed, 136)"
     ],
     "language": "python",
     "metadata": {},
     "outputs": [
      {
       "output_type": "stream",
       "stream": "stdout",
       "text": [
        "[(35, 136), (144, 136), (135, 136), (136, 198)]\n"
       ]
      }
     ],
     "prompt_number": 79
    },
    {
     "cell_type": "code",
     "collapsed": false,
     "input": [
      "print s_wed.enum_links_node(136)"
     ],
     "language": "python",
     "metadata": {},
     "outputs": [
      {
       "output_type": "stream",
       "stream": "stdout",
       "text": [
        "[(35, 136), (144, 136), (135, 136), (136, 198)]\n"
       ]
      }
     ],
     "prompt_number": 80
    },
    {
     "cell_type": "code",
     "collapsed": false,
     "input": [
      "netw = networkw.w_links(s_wed)\n",
      "netw.histogram"
     ],
     "language": "python",
     "metadata": {},
     "outputs": [
      {
       "output_type": "pyout",
       "prompt_number": 81,
       "text": [
        "[(2, 35), (3, 89), (4, 105), (5, 61), (6, 13)]"
       ]
      }
     ],
     "prompt_number": 81
    },
    {
     "cell_type": "code",
     "collapsed": false,
     "input": [
      "wedw = s_wed.w_links()\n",
      "wedw.histogram"
     ],
     "language": "python",
     "metadata": {},
     "outputs": [
      {
       "output_type": "pyout",
       "prompt_number": 82,
       "text": [
        "[(2, 35), (3, 89), (4, 105), (5, 61), (6, 13)]"
       ]
      }
     ],
     "prompt_number": 82
    },
    {
     "cell_type": "code",
     "collapsed": false,
     "input": [],
     "language": "python",
     "metadata": {},
     "outputs": [],
     "prompt_number": 83
    },
    {
     "cell_type": "code",
     "collapsed": false,
     "input": [],
     "language": "python",
     "metadata": {},
     "outputs": []
    }
   ],
   "metadata": {}
  }
 ]
}