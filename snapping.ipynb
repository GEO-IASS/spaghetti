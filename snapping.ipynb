{
 "cells": [
  {
   "cell_type": "code",
   "execution_count": 1,
   "metadata": {
    "collapsed": false
   },
   "outputs": [
    {
     "name": "stdout",
     "output_type": "stream",
     "text": [
      "Populating the interactive namespace from numpy and matplotlib\n"
     ]
    }
   ],
   "source": [
    "import numpy as np\n",
    "import pysal as ps\n",
    "%pylab inline\n",
    "__author__ = \"Serge Rey <sjsrey@gmail.com>\"\n",
    "\n"
   ]
  },
  {
   "cell_type": "code",
   "execution_count": 2,
   "metadata": {
    "collapsed": true
   },
   "outputs": [],
   "source": [
    "def squaredDistance(point, segment):\n",
    "    \"\"\"Find the squared distance between a point and a segment\n",
    "    \n",
    "    Arguments\n",
    "    =========\n",
    "    \n",
    "    point: tuple (x,y)\n",
    "    \n",
    "    segment: list of tuples [(x0,y0), (x1,y1)]\n",
    "    \n",
    "    Returns\n",
    "    =======\n",
    "    \n",
    "    tuple: 2 elements\n",
    "    \n",
    "           distance squared between point and segment\n",
    "    \n",
    "           array(xb, yb): the nearest point on the segment\n",
    "    \n",
    "    \"\"\"\n",
    "    p0,p1 = [np.array(p) for p in segment]\n",
    "    v = p1 - p0\n",
    "    p = np.array(point)\n",
    "    w = p - p0\n",
    "    c1 = np.dot(w,v)\n",
    "    if c1 <= 0.:\n",
    "        # print 'before p0'\n",
    "        return np.dot(w.T,w), p0\n",
    "    c2 = np.dot(v,v)\n",
    "    if c2 <= c1:\n",
    "        dp1 = p - p1\n",
    "        # print 'after p1'\n",
    "        return np.dot(dp1.T,dp1), p1\n",
    "    \n",
    "    b = c1 / c2\n",
    "    bv = np.dot(b,v)\n",
    "    pb = p0 + bv\n",
    "    d2 = p - pb\n",
    "    \n",
    "    return np.dot(d2,d2), pb\n",
    "    \n",
    "    "
   ]
  },
  {
   "cell_type": "code",
   "execution_count": 3,
   "metadata": {
    "collapsed": false
   },
   "outputs": [],
   "source": [
    "def snapPointsOnSegments(points, segments):\n",
    "    \"\"\"Place points onto closet segment in a set of segments\n",
    "    \n",
    "    Arguments\n",
    "    =========\n",
    "    \n",
    "    points: sequence of (x,y) 2-d points\n",
    "    \n",
    "    segments: sequence of pysal.cg.shapes.Chain\n",
    "              Note that the each segment is a chain with *one head and one tail node*, in other words one link only.\n",
    "              \n",
    "    Returns\n",
    "    =======\n",
    "    \n",
    "    p2s: dictionary\n",
    "         key: a point (see points in arguments)\n",
    "         \n",
    "         value:  a 2-tuple: ((head, tail), point)\n",
    "                 where (head, tail) is the target segment, and point is the snapped location on the segment\n",
    "              \n",
    "    \"\"\"\n",
    "    \n",
    "    # Put segments in an Rtree\n",
    "    rt = ps.cg.Rtree()\n",
    "    SMALL = 0.01\n",
    "    node2segs = {}\n",
    "    \n",
    "    for segment in segments:\n",
    "        head,tail = segment.vertices\n",
    "        x0,y0 = head\n",
    "        x1,y1 = tail\n",
    "        if (x0,y0) not in node2segs:\n",
    "            node2segs[(x0,y0)] = []\n",
    "        if (x1,y1) not in node2segs:\n",
    "            node2segs[(x1,y1)] = []\n",
    "        node2segs[(x0,y0)].append(segment)\n",
    "        node2segs[(x1,y1)].append(segment)\n",
    "        x0,y0,x1,y1 =  segment.bounding_box\n",
    "        x0 -= SMALL\n",
    "        y0 -= SMALL\n",
    "        x1 += SMALL\n",
    "        y1 += SMALL\n",
    "        r = ps.cg.Rect(x0,y0,x1,y1)\n",
    "        rt.insert(segment, r)\n",
    "        \n",
    "        \n",
    "        \n",
    "    # Build a KDtree on segment nodes\n",
    "    kt = ps.cg.KDTree(node2segs.keys())\n",
    "    p2s = {}\n",
    "    points.sort()\n",
    "\n",
    "    for point in points:\n",
    "        # first find nearest neighbor segment node for point\n",
    "        dmin, node = kt.query(point, k=1)\n",
    "        node = tuple(kt.data[node])\n",
    "        closest = node2segs[node][0].vertices\n",
    "        \n",
    "        # use this segment as the candidate closest segment: closest\n",
    "        # use the distance as the distance to beat: dmin\n",
    "        p2s[point] = (closest, node) # sna\n",
    "        x0 = point[0] - dmin\n",
    "        y0 = point[1] - dmin\n",
    "        x1 = point[0] + dmin\n",
    "        y1 = point[1] + dmin\n",
    "        \n",
    "        # find all segments with bounding boxes that intersect\n",
    "        # a query rectangle centered on the point with sides of length 2*dmin\n",
    "        candidates = [ cand for cand in rt.intersection([x0,y0,x1,y1])]\n",
    "        dmin += SMALL\n",
    "        dmin2 = dmin * dmin\n",
    "        \n",
    "        # of the candidate segments, find the one that is the minimum distance to the query point\n",
    "        for candidate in candidates:\n",
    "            dnc, p2b = squaredDistance(point, candidate.vertices)\n",
    "            if dnc <= dmin2:\n",
    "                closest = candidate.vertices\n",
    "                dmin2 = dnc\n",
    "                p2s[point] = (closest, p2b)\n",
    "        \n",
    "    return p2s\n",
    "    \n",
    "    "
   ]
  },
  {
   "cell_type": "markdown",
   "metadata": {},
   "source": [
    "## Example"
   ]
  },
  {
   "cell_type": "code",
   "execution_count": 4,
   "metadata": {
    "collapsed": false
   },
   "outputs": [],
   "source": [
    "eb = ps.open(ps.examples.get_path(\"eberly_net.shp\"))"
   ]
  },
  {
   "cell_type": "code",
   "execution_count": 5,
   "metadata": {
    "collapsed": false
   },
   "outputs": [],
   "source": [
    "# note eberly has chain==segment, forall chains. not necessarily true for all chains in polyline shapefiles\n",
    "# will have to generalize this\n",
    "segments = [ chain for chain in eb] "
   ]
  },
  {
   "cell_type": "code",
   "execution_count": 6,
   "metadata": {
    "collapsed": true
   },
   "outputs": [],
   "source": [
    "ep = ps.open(ps.examples.get_path(\"eberly_net_pts_offnetwork.shp\"))"
   ]
  },
  {
   "cell_type": "code",
   "execution_count": 7,
   "metadata": {
    "collapsed": true
   },
   "outputs": [],
   "source": [
    "points = [ point for point in ep]"
   ]
  },
  {
   "cell_type": "code",
   "execution_count": 8,
   "metadata": {
    "collapsed": false
   },
   "outputs": [
    {
     "data": {
      "text/plain": [
       "(-1, 10)"
      ]
     },
     "execution_count": 8,
     "metadata": {},
     "output_type": "execute_result"
    },
    {
     "data": {
      "image/png": "[encoded data removed]",
      "text/plain": [
       "<matplotlib.figure.Figure at 0x109c8bc90>"
      ]
     },
     "metadata": {},
     "output_type": "display_data"
    }
   ],
   "source": [
    "#plotting\n",
    "network = []\n",
    "for segment in segments:\n",
    "    head,tail = segment.vertices\n",
    "    x1,y1 = head\n",
    "    x2,y2 = tail\n",
    "    network.append((x1,x2))\n",
    "    network.append((y1,y2))\n",
    "    network.append('b')\n",
    "plot(*network)\n",
    "for point in points:\n",
    "    x,y = point\n",
    "    plot(x,y, '.')\n",
    "xlim(-1,25)\n",
    "ylim(-1,10)"
   ]
  },
  {
   "cell_type": "code",
   "execution_count": 9,
   "metadata": {
    "collapsed": false
   },
   "outputs": [],
   "source": [
    "res = snapPointsOnSegments(points, segments)"
   ]
  },
  {
   "cell_type": "code",
   "execution_count": 10,
   "metadata": {
    "collapsed": false
   },
   "outputs": [
    {
     "data": {
      "text/plain": [
       "(-1, 10)"
      ]
     },
     "execution_count": 10,
     "metadata": {},
     "output_type": "execute_result"
    },
    {
     "data": {
      "image/png": "[encoded data removed]",
      "text/plain": [
       "<matplotlib.figure.Figure at 0x10a2a46d0>"
      ]
     },
     "metadata": {},
     "output_type": "display_data"
    }
   ],
   "source": [
    "#plotting\n",
    "network = []\n",
    "for segment in segments:\n",
    "    head,tail = segment.vertices\n",
    "    x1,y1 = head\n",
    "    x2,y2 = tail\n",
    "    network.append((x1,x2))\n",
    "    network.append((y1,y2))\n",
    "    network.append('b')\n",
    "plot(*network)\n",
    "for point in points:\n",
    "    snapped = res[point]\n",
    "    x,y = snapped[1]\n",
    "    #print point,snapped\n",
    "    plot(x,y, '.')\n",
    "xlim(-1,25)\n",
    "ylim(-1,10)"
   ]
  },
  {
   "cell_type": "code",
   "execution_count": 11,
   "metadata": {
    "collapsed": false
   },
   "outputs": [
    {
     "name": "stdout",
     "output_type": "stream",
     "text": [
      "(0.08503569102250197, 3.4291679735487035) ([(0.0, 4.0), (5.0, 4.0)], array([ 0.08503569,  4.        ]))\n",
      "(0.10582418812288263, 2.8529527589939496) ([(0.0, 4.0), (5.0, 4.0)], array([ 0.10582419,  4.        ]))\n",
      "(0.9221933143848327, 2.932646727847103) ([(0.0, 4.0), (5.0, 4.0)], array([ 0.92219331,  4.        ]))\n",
      "(1.125205331703149, 4.8587675506025425) ([(1.0, 7.0), (0.0, 4.0)], array([ 0.3701508,  5.1104524]))\n",
      "(1.2294216099258877, 4.528823930291667) ([(0.0, 4.0), (5.0, 4.0)], array([ 1.22942161,  4.        ]))\n",
      "(1.5043534922448583, 3.1321032351822966) ([(0.0, 4.0), (5.0, 4.0)], array([ 1.50435349,  4.        ]))\n",
      "(1.874678044967222, 4.0518996984423055) ([(0.0, 4.0), (5.0, 4.0)], array([ 1.87467804,  4.        ]))\n",
      "(1.9947115329847633, 4.447281096736115) ([(3.0, 5.0), (2.0, 4.5)], array([ 2. ,  4.5]))\n",
      "(2.0840557657189747, 5.8651611966484545) ([(1.0, 7.0), (4.0, 7.0)], array([ 2.08405577,  7.        ]))\n",
      "(2.291937682192724, 6.57834834523361) ([(1.0, 7.0), (4.0, 7.0)], array([ 2.29193768,  7.        ]))\n",
      "(2.4899668896717992, 1.8254269586214475) ([(0.0, 4.0), (5.0, 4.0)], array([ 2.48996689,  4.        ]))\n",
      "(2.5116219504027573, 5.984042986447701) ([(1.0, 7.0), (4.0, 7.0)], array([ 2.51162195,  7.        ]))\n",
      "(2.5343623065572065, 1.9074983234372391) ([(0.0, 4.0), (5.0, 4.0)], array([ 2.53436231,  4.        ]))\n",
      "(2.6552514952695345, 5.257347668673046) ([(3.0, 5.0), (2.0, 4.5)], array([ 2.82714026,  4.91357013]))\n",
      "(2.9208798336655812, 2.7906034893967275) ([(0.0, 4.0), (5.0, 4.0)], array([ 2.92087983,  4.        ]))\n",
      "(3.069601208142545, 2.928730574990573) ([(0.0, 4.0), (5.0, 4.0)], array([ 3.06960121,  4.        ]))\n",
      "(3.273443921087341, 2.946748126543301) ([(0.0, 4.0), (5.0, 4.0)], array([ 3.27344392,  4.        ]))\n",
      "(3.740964031466208, 5.3241247880287785) ([(5.0, 4.0), (3.0, 5.0)], array([ 3.46312131,  4.76843935]))\n",
      "(4.317344056475611, 2.5473280632626096) ([(6.2, 5.0), (5.5, 3.0)], array([ 5.5,  3. ]))\n",
      "(4.5306837644797024, 6.574625311843084) ([(4.0, 7.0), (5.0, 4.0)], array([ 4.18068078,  6.45795765]))\n",
      "(5.113585609107799, 4.190072445884161) ([(4.0, 7.0), (5.0, 4.0)], array([ 4.95433683,  4.13698952]))\n",
      "(5.33256837402557, 6.536247459897653) ([(4.0, 7.0), (5.0, 4.0)], array([ 4.2723826,  6.1828522]))\n",
      "(5.472987087321756, 2.5039540180162074) ([(6.2, 5.0), (5.5, 3.0)], array([ 5.5,  3. ]))\n",
      "(5.709809155040021, 2.7045603029221574) ([(5.5, 3.0), (7.0, 3.0)], array([ 5.70980916,  3.        ]))\n",
      "(5.789637347205691, 2.892917876222743) ([(5.5, 3.0), (7.0, 3.0)], array([ 5.78963735,  3.        ]))\n",
      "(6.059291226371969, 5.75891646740413) ([(6.2, 5.0), (5.5, 3.0)], array([ 6.2,  5. ]))\n",
      "(6.1064226670337725, 1.065094341800108) ([(5.5, 3.0), (7.0, 3.0)], array([ 6.10642267,  3.        ]))\n",
      "(6.234548687993564, 7.777543287945818) ([(4.0, 7.0), (6.5, 9.0)], array([ 5.7418191 ,  8.39345528]))\n",
      "(6.4528329212889455, 2.7525633208868854) ([(5.5, 3.0), (7.0, 3.0)], array([ 6.45283292,  3.        ]))\n",
      "(6.7920604132708, 8.345443060667417) ([(6.5, 9.0), (7.5, 7.25)], array([ 6.85385478,  8.38075413]))\n",
      "(7.213181202384157, 1.0896449853334347) ([(9.0, 1.0), (11.0, 3.0)], array([ 9.,  1.]))\n",
      "(7.305940740259589, 5.343966284055054) ([(7.5, 7.25), (8.0, 4.0)], array([ 7.78196901,  5.4172014 ]))\n",
      "(7.471507867323881, 6.056247607199756) ([(7.5, 7.25), (8.0, 4.0)], array([ 7.6787491 ,  6.08813087]))\n",
      "(7.583356328843559, 7.662305481257077) ([(6.5, 9.0), (7.5, 7.25)], array([ 7.34290997,  7.52490756]))\n",
      "(7.628892435872472, 7.86179944717843) ([(6.5, 9.0), (7.5, 7.25)], array([ 7.26818299,  7.65567976]))\n",
      "(7.640735558599886, 5.028009625851529) ([(7.5, 7.25), (8.0, 4.0)], array([ 7.83719475,  5.05823412]))\n",
      "(7.668776822392221, 5.001351448297359) ([(7.5, 7.25), (8.0, 4.0)], array([ 7.84184954,  5.02797802]))\n",
      "(7.758068776562223, 4.618031632896875) ([(7.5, 7.25), (8.0, 4.0)], array([ 7.90152285,  4.64010149]))\n",
      "(7.834423364608455, 2.3713103928080423) ([(6.2, 5.0), (7.0, 3.0)], array([ 7.,  3.]))\n",
      "(8.031236399903136, 6.876326289957974) ([(7.5, 7.25), (11.5, 7.25)], array([ 8.0312364,  7.25     ]))\n",
      "(8.031644097542681, 3.5437293639772984) ([(8.0, 4.0), (16.0, 4.0)], array([ 8.0316441,  4.       ]))\n",
      "(8.487408780169316, 2.876126285721824) ([(8.0, 4.0), (16.0, 4.0)], array([ 8.48740878,  4.        ]))\n",
      "(8.504178573135992, 5.077099313343262) ([(8.0, 4.0), (11.5, 7.25)], array([ 8.80781117,  4.75011037]))\n",
      "(8.727231795375713, 7.008591219932526) ([(7.5, 7.25), (11.5, 7.25)], array([ 8.7272318,  7.25     ]))\n",
      "(8.762458962455963, 5.055734397512472) ([(8.0, 4.0), (11.5, 7.25)], array([ 8.93585101,  4.86900451]))\n",
      "(8.775272925256068, 4.380411069662983) ([(8.0, 4.0), (11.5, 7.25)], array([ 8.60599536,  4.56270998]))\n",
      "(8.889127237525841, 6.486859404684678) ([(7.5, 7.25), (11.5, 7.25)], array([ 8.88912724,  7.25      ]))\n",
      "(9.025633038997064, 2.888497233975608) ([(8.0, 4.0), (16.0, 4.0)], array([ 9.02563304,  4.        ]))\n",
      "(9.52400392772, 3.460091034687604) ([(8.0, 4.0), (16.0, 4.0)], array([ 9.52400393,  4.        ]))\n",
      "(10.066033399102585, 2.1660621403084908) ([(9.0, 1.0), (11.0, 3.0)], array([ 10.11604777,   2.11604777]))\n",
      "(10.518119201110386, 2.326337169451553) ([(9.0, 1.0), (11.0, 3.0)], array([ 10.42222819,   2.42222819]))\n",
      "(10.578096754590259, 4.504124616058967) ([(8.0, 4.0), (16.0, 4.0)], array([ 10.57809675,   4.        ]))\n",
      "(10.593144998833726, 4.849128123349346) ([(8.0, 4.0), (16.0, 4.0)], array([ 10.593145,   4.      ]))\n",
      "(10.649383199081187, 2.7219068777346145) ([(9.0, 1.0), (11.0, 3.0)], array([ 10.68564504,   2.68564504]))\n",
      "(10.917309336504077, 2.818238267860238) ([(9.0, 1.0), (11.0, 3.0)], array([ 10.8677738,   2.8677738]))\n",
      "(11.001156779971746, 5.977454488435175) ([(8.0, 4.0), (11.5, 7.25)], array([ 10.59759848,   6.41205573]))\n",
      "(11.134146548002985, 6.49501356904608) ([(8.0, 4.0), (11.5, 7.25)], array([ 10.92708272,   6.71800538]))\n",
      "(11.182828973366409, 2.0325439214670364) ([(11.0, 3.0), (12.0, 2.0)], array([ 11.57514253,   2.42485747]))\n",
      "(11.21926927351796, 7.074199149441246) ([(8.0, 4.0), (11.5, 7.25)], array([ 11.26159184,   7.028621  ]))\n",
      "(11.415481650978505, 1.2952971935915785) ([(11.0, 3.0), (12.0, 2.0)], array([ 12.,   2.]))\n",
      "(11.481959523103933, 5.1726624857830075) ([(8.0, 4.0), (16.0, 4.0)], array([ 11.48195952,   4.        ]))\n",
      "(12.005837263842588, 3.4051467145462535) ([(8.0, 4.0), (16.0, 4.0)], array([ 12.00583726,   4.        ]))\n",
      "(12.009755700631258, 4.313544468076385) ([(8.0, 4.0), (16.0, 4.0)], array([ 12.0097557,   4.       ]))\n",
      "(12.131132141223583, 3.273804048842834) ([(8.0, 4.0), (16.0, 4.0)], array([ 12.13113214,   4.        ]))\n",
      "(12.253323907974666, 5.5509927808919075) ([(11.5, 7.25), (13.5, 6.0)], array([ 12.80531482,   6.43417824]))\n",
      "(12.666941780583672, 1.4585437471614116) ([(11.0, 3.0), (12.0, 2.0)], array([ 12.,   2.]))\n",
      "(12.930928896110307, 3.6736378689297853) ([(8.0, 4.0), (16.0, 4.0)], array([ 12.9309289,   4.       ]))\n",
      "(12.97434324414711, 5.3273331808080195) ([(11.5, 7.25), (13.5, 6.0)], array([ 13.4243218 ,   6.04729887]))\n",
      "(13.04689478544851, 1.6134900640566572) ([(11.0, 3.0), (12.0, 2.0)], array([ 12.,   2.]))\n",
      "(13.273662976554888, 1.1939353983171144) ([(11.0, 3.0), (12.0, 2.0)], array([ 12.,   2.]))\n",
      "(13.715947268033057, 5.904429700663259) ([(11.5, 7.25), (13.5, 6.0)], array([ 13.5,   6. ]))\n",
      "(13.815473544093157, 5.063198736361348) ([(11.5, 7.25), (13.5, 6.0)], array([ 13.5,   6. ]))\n",
      "(13.908088852950524, 1.003528393403363) ([(16.0, 4.0), (16.0, 1.0)], array([ 16.        ,   1.00352839]))\n",
      "(14.427711952736972, 3.099283121758736) ([(8.0, 4.0), (16.0, 4.0)], array([ 14.42771195,   4.        ]))\n",
      "(14.657434376298665, 3.138299742605462) ([(8.0, 4.0), (16.0, 4.0)], array([ 14.65743438,   4.        ]))\n",
      "(14.8932706545572, 5.382101722454082) ([(14.0, 7.25), (16.0, 4.0)], array([ 15.0791019 ,   5.49645941]))\n",
      "(15.128727258997419, 4.868157086455717) ([(14.0, 7.25), (16.0, 4.0)], array([ 15.37317686,   5.01858761]))\n",
      "(15.752963087327446, 2.869656458694975) ([(16.0, 4.0), (16.0, 1.0)], array([ 16.        ,   2.86965646]))\n",
      "(15.847236243666407, 7.31598237577083) ([(14.0, 7.25), (18.0, 8.5)], array([ 15.7016764 ,   7.78177388]))\n",
      "(16.10160142295651, 7.289526282777852) ([(14.0, 7.25), (18.0, 8.5)], array([ 15.92587924,   7.85183726]))\n",
      "(16.197209047988128, 6.209119722192468) ([(16.0, 4.0), (18.0, 8.5)], array([ 16.85240881,   5.91791983]))\n",
      "(16.20417010892687, 7.825961684904905) ([(14.0, 7.25), (18.0, 8.5)], array([ 16.17204442,   7.92876388]))\n",
      "(16.21202964561644, 6.07433772376179) ([(16.0, 4.0), (18.0, 8.5)], array([ 16.80483126,   5.81087034]))\n",
      "(16.439519503071452, 2.7476748428152664) ([(16.0, 4.0), (16.0, 1.0)], array([ 16.        ,   2.74767484]))\n",
      "(16.536521493408262, 3.269689043239319) ([(16.0, 4.0), (16.0, 1.0)], array([ 16.        ,   3.26968904]))\n",
      "(16.770839380513504, 6.1576130245448955) ([(16.0, 4.0), (18.0, 8.5)], array([ 16.92791236,   6.08780281]))\n",
      "(16.821774849961123, 7.084312074108165) ([(16.0, 4.0), (18.0, 8.5)], array([ 17.28024363,   6.88054817]))\n",
      "(16.877560068381865, 1.313121816712329) ([(16.0, 1.0), (21.0, 1.0)], array([ 16.87756007,   1.        ]))\n",
      "(16.956193773059148, 2.6259315537026744) ([(18.0, 3.5), (17.0, 2.0)], array([ 17.27541265,   2.41311897]))\n",
      "(17.2587221673659, 3.0620444460813907) ([(18.0, 3.5), (17.0, 2.0)], array([ 17.56978118,   2.85467177]))\n",
      "(17.397234924431395, 3.8465232291859976) ([(16.0, 4.0), (21.0, 4.0)], array([ 17.39723492,   4.        ]))\n",
      "(17.484772861944425, 1.3880022945802004) ([(16.0, 1.0), (21.0, 1.0)], array([ 17.48477286,   1.        ]))\n",
      "(17.617895343911265, 3.797756277510278) ([(16.0, 4.0), (21.0, 4.0)], array([ 17.61789534,   4.        ]))\n",
      "(17.950018225273265, 3.2547033035422657) ([(18.0, 3.5), (17.0, 2.0)], array([ 17.87140713,   3.3071107 ]))\n",
      "(18.276449017968353, 2.126032533673305) ([(17.0, 2.0), (19.0, 2.0)], array([ 18.27644902,   2.        ]))\n",
      "(18.761115322891023, 1.2023345934321112) ([(16.0, 1.0), (21.0, 1.0)], array([ 18.76111532,   1.        ]))\n",
      "(19.140837744853304, 1.6483304905897191) ([(18.0, 3.5), (19.0, 2.0)], array([ 19.,   2.]))\n",
      "(20.15023899031201, 2.352218120297239) ([(21.0, 1.0), (21.0, 4.0)], array([ 21.        ,   2.35221812]))\n",
      "(20.643473757280884, 1.3380304419267501) ([(16.0, 1.0), (21.0, 1.0)], array([ 20.64347376,   1.        ]))\n",
      "(21.118455123353783, 1.3922970849488614) ([(21.0, 1.0), (21.0, 4.0)], array([ 21.        ,   1.39229708]))\n"
     ]
    }
   ],
   "source": [
    "pnts = res.keys()\n",
    "pnts.sort()\n",
    "for pnt in pnts:\n",
    "    print pnt, res[pnt]"
   ]
  },
  {
   "cell_type": "code",
   "execution_count": null,
   "metadata": {
    "collapsed": true
   },
   "outputs": [],
   "source": []
  },
  {
   "cell_type": "code",
   "execution_count": null,
   "metadata": {
    "collapsed": true
   },
   "outputs": [],
   "source": []
  }
 ],
 "metadata": {
  "kernelspec": {
   "display_name": "Python 2",
   "language": "python",
   "name": "python2"
  },
  "language_info": {
   "codemirror_mode": {
    "name": "ipython",
    "version": 2
   },
   "file_extension": ".py",
   "mimetype": "text/x-python",
   "name": "python",
   "nbconvert_exporter": "python",
   "pygments_lexer": "ipython2",
   "version": "2.7.10"
  }
 },
 "nbformat": 4,
 "nbformat_minor": 0
}
