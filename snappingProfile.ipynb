{
 "cells": [
  {
   "cell_type": "code",
   "execution_count": 1,
   "metadata": {
    "collapsed": false
   },
   "outputs": [
    {
     "name": "stdout",
     "output_type": "stream",
     "text": [
      "Populating the interactive namespace from numpy and matplotlib\n"
     ]
    }
   ],
   "source": [
    "%pylab inline\n",
    "import pysal as ps\n",
    "import numpy as np\n",
    "import util\n",
    "\n"
   ]
  },
  {
   "cell_type": "code",
   "execution_count": 2,
   "metadata": {
    "collapsed": false
   },
   "outputs": [
    {
     "data": {
      "text/plain": [
       "True"
      ]
     },
     "execution_count": 2,
     "metadata": {},
     "output_type": "execute_result"
    }
   ],
   "source": [
    "np.inf > 1000"
   ]
  },
  {
   "cell_type": "code",
   "execution_count": 15,
   "metadata": {
    "collapsed": false
   },
   "outputs": [],
   "source": [
    "ntw = ps.Network(ps.examples.get_path('geodanet/streets.shp'))\n",
    "\n",
    "#Snap a point pattern to the network\n",
    "ntw.snapobservations(ps.examples.get_path('geodanet/crimes.shp'), 'crimes', attribute=True)\n",
    "ntw.snapobservations(ps.examples.get_path('geodanet/schools.shp'), 'schools', attribute=False)"
   ]
  },
  {
   "cell_type": "code",
   "execution_count": 16,
   "metadata": {
    "collapsed": false
   },
   "outputs": [],
   "source": [
    "import time\n",
    "t1 = time.time()\n",
    "ntw.snapobservations(ps.examples.get_path('geodanet/crimes.shp'), 'crimes', attribute=True)\n",
    "t2 = time.time()\n",
    "treeTime = t2-t1\n"
   ]
  },
  {
   "cell_type": "code",
   "execution_count": 17,
   "metadata": {
    "collapsed": true
   },
   "outputs": [],
   "source": [
    "pp = ntw.pointpatterns['crimes']"
   ]
  },
  {
   "cell_type": "code",
   "execution_count": 18,
   "metadata": {
    "collapsed": false
   },
   "outputs": [],
   "source": [
    "def snapbf(patternFile, network):\n",
    "    pf = ps.open(ps.examples.get_path(patternFile))\n",
    "    points = {}\n",
    "    for i,p in enumerate(pf):\n",
    "        points[i] = p\n",
    "        \n",
    "    nPoints = len(points)\n",
    "    edges = {}\n",
    "    for edge in ntw.edges:\n",
    "        head, tail = edge\n",
    "        hc = ntw.node_coords[head]\n",
    "        tc = ntw.node_coords[tail]\n",
    "        edges[edge] = [hc,tc]\n",
    "    \n",
    "    nEdges = len(edges)\n",
    "    p2s = {}\n",
    "    for pIdx,point in points.iteritems():\n",
    "        dmin = np.inf\n",
    "        for eIdx, edge in edges.iteritems():\n",
    "            dpe = util.squaredDistancePointSegment(point, edge)\n",
    "            if dpe[0] < dmin:\n",
    "                p2s[pIdx] = [eIdx, dpe]\n",
    "                dmin = dpe[0]\n",
    "    \n",
    "    return points, p2s\n",
    "    "
   ]
  },
  {
   "cell_type": "code",
   "execution_count": 19,
   "metadata": {
    "collapsed": false
   },
   "outputs": [
    {
     "name": "stdout",
     "output_type": "stream",
     "text": [
      "Speedup:  5.82892918005\n",
      "bf:  2.00368189812\n",
      "tree:  0.343747854233\n"
     ]
    }
   ],
   "source": [
    "t1 = time.time()\n",
    "res = snapbf('geodanet/crimes.shp', ntw)\n",
    "t2 = time.time()\n",
    "bfTime = t2-t1\n",
    "\n",
    "print \"Speedup: \", bfTime/treeTime\n",
    "print \"bf: \", bfTime\n",
    "print \"tree: \", treeTime"
   ]
  },
  {
   "cell_type": "code",
   "execution_count": 3,
   "metadata": {
    "collapsed": true
   },
   "outputs": [],
   "source": [
    "ntw = ps.Network(ps.examples.get_path('newHaven/newhaven_nework.shp'))"
   ]
  },
  {
   "cell_type": "code",
   "execution_count": 5,
   "metadata": {
    "collapsed": false
   },
   "outputs": [
    {
     "name": "stdout",
     "output_type": "stream",
     "text": [
      " "
     ]
    }
   ],
   "source": [
    "%prun ntw.snapobservations(ps.examples.get_path('newHaven/new_haven_merged.shp'), 'dataset', attribute=True)"
   ]
  },
  {
   "cell_type": "code",
   "execution_count": 22,
   "metadata": {
    "collapsed": false
   },
   "outputs": [
    {
     "name": "stdout",
     "output_type": "stream",
     "text": [
      "161.934916973\n"
     ]
    }
   ],
   "source": [
    "t1 = time.time()\n",
    "ntw.snapobservations(ps.examples.get_path('newHaven/new_haven_merged.shp'), 'dataset', attribute=True)\n",
    "t2 = time.time()\n",
    "treeTime = t2-t1\n",
    "print treeTime"
   ]
  },
  {
   "cell_type": "code",
   "execution_count": 23,
   "metadata": {
    "collapsed": false
   },
   "outputs": [
    {
     "name": "stdout",
     "output_type": "stream",
     "text": [
      "Speedup:  6.53942316941\n",
      "bf:  1058.96094799\n",
      "tree:  161.934916973\n"
     ]
    }
   ],
   "source": [
    "t1 = time.time()\n",
    "res = snapbf('newHaven/new_haven_merged.shp', ntw)\n",
    "t2 = time.time()\n",
    "bfTime = t2-t1\n",
    "\n",
    "print \"Speedup: \", bfTime/treeTime\n",
    "print \"bf: \", bfTime\n",
    "print \"tree: \", treeTime"
   ]
  },
  {
   "cell_type": "code",
   "execution_count": null,
   "metadata": {
    "collapsed": true
   },
   "outputs": [],
   "source": []
  }
 ],
 "metadata": {
  "kernelspec": {
   "display_name": "Python 2",
   "language": "python",
   "name": "python2"
  },
  "language_info": {
   "codemirror_mode": {
    "name": "ipython",
    "version": 2
   },
   "file_extension": ".py",
   "mimetype": "text/x-python",
   "name": "python",
   "nbconvert_exporter": "python",
   "pygments_lexer": "ipython2",
   "version": "2.7.10"
  }
 },
 "nbformat": 4,
 "nbformat_minor": 0
}
