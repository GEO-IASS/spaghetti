{
 "metadata": {
  "name": "wed_modular"
 },
 "nbformat": 3,
 "nbformat_minor": 0,
 "worksheets": [
  {
   "cells": [
    {
     "cell_type": "markdown",
     "metadata": {},
     "source": [
      "# Extracting WED from a planar graph\n",
      "\n",
      "## Steps\n",
      "\n",
      " 1. Extract Connected Components\n",
      " 2. Extract Primatives\n",
      " 3. Construct WED \n",
      "    1. Identify right polys for each edge in a region\n",
      "    2. Test if a region is a hole - if so add innermost containing region as left poly for each edge\n",
      "    3. Edges without a left region have external bounding polygon as implicit left poly\n",
      "    4. Fill out s_c, s_cc, e_c, e_cc pointers for each edge"
     ]
    },
    {
     "cell_type": "markdown",
     "metadata": {},
     "source": [
      "## Extract Connected Components"
     ]
    },
    {
     "cell_type": "code",
     "collapsed": false,
     "input": [
      "import numpy as np\n",
      "import pysal as ps\n",
      "import copy\n",
      "import networkx as nx\n"
     ],
     "language": "python",
     "metadata": {},
     "outputs": [],
     "prompt_number": 83
    },
    {
     "cell_type": "raw",
     "metadata": {},
     "source": [
      "Generate the test graph"
     ]
    },
    {
     "cell_type": "code",
     "collapsed": false,
     "input": [
      "# from eberly http://www.geometrictools.com/Documentation/MinimalCycleBasis.pdf\n",
      "coords = {}\n",
      "coords[0] = 1,8\n",
      "coords[1] = 1,7\n",
      "coords[2] = 4,7\n",
      "coords[3] = 0,4\n",
      "coords[4] = 5,4\n",
      "coords[5] = 3,5\n",
      "coords[6] = 2, 4.5\n",
      "coords[7] = 6.5, 9\n",
      "coords[8] = 6.2, 5\n",
      "coords[9] = 5.5,3\n",
      "coords[10] = 7,3\n",
      "coords[11] = 7.5, 7.25\n",
      "coords[12] = 8,4\n",
      "coords[13] = 11.5, 7.25\n",
      "coords[14] = 9, 1\n",
      "coords[15] = 11, 3\n",
      "coords[16] = 12, 2\n",
      "coords[17] = 12, 5\n",
      "coords[18] = 13.5, 6\n",
      "coords[19] = 14, 7.25\n",
      "coords[20] = 16, 4\n",
      "coords[21] = 18, 8.5\n",
      "coords[22] = 16, 1\n",
      "coords[23] = 21, 1\n",
      "coords[24] = 21, 4\n",
      "coords[25] = 18, 3.5\n",
      "coords[26] = 17, 2\n",
      "coords[27] = 19, 2\n",
      "\n",
      "\n",
      "vertices = {}\n",
      "for v in range(28):\n",
      "    vertices[v] = []\n",
      "    \n",
      "vertices[1] = [2,3]\n",
      "vertices[2] = [1,4,7]\n",
      "vertices[3] = [1,4]\n",
      "vertices[4] = [2,3,5]\n",
      "vertices[5] = [4,6]\n",
      "vertices[6] = [5]\n",
      "vertices[7] = [2,11]\n",
      "vertices[8] = [9,10]\n",
      "vertices[9] = [8,10]\n",
      "vertices[10] = [8,9]\n",
      "vertices[11] = [7,12,13]\n",
      "vertices[12] = [11,13,20]\n",
      "vertices[13] = [11,12,18]\n",
      "vertices[14] = [15]\n",
      "vertices[15] = [14, 16]\n",
      "vertices[16] = [15]\n",
      "vertices[18] = [13,19]\n",
      "vertices[19] = [18,20,21]\n",
      "vertices[20] = [12,19,21,22,24]\n",
      "vertices[21] = [19,20]\n",
      "vertices[22] = [20,23]\n",
      "vertices[23] = [22,24]\n",
      "vertices[24] = [20,23]\n",
      "vertices[25] = [26,27]\n",
      "vertices[26] = [25,27]\n",
      "vertices[27] = [25,26]\n",
      "\n",
      "eberly = vertices.copy()\n",
      "pos = coords.values()\n",
      "\n",
      "eg = nx.Graph(vertices)\n",
      "g = nx.Graph(vertices)\n",
      "nx.draw(g,pos = pos)"
     ],
     "language": "python",
     "metadata": {},
     "outputs": [
      {
       "output_type": "display_data",
       "png": "[encoded data removed]"
      }
     ],
     "prompt_number": 84
    },
    {
     "cell_type": "code",
     "collapsed": false,
     "input": [
      "coords"
     ],
     "language": "python",
     "metadata": {},
     "outputs": [
      {
       "output_type": "pyout",
       "prompt_number": 85,
       "text": [
        "{0: (1, 8),\n",
        " 1: (1, 7),\n",
        " 2: (4, 7),\n",
        " 3: (0, 4),\n",
        " 4: (5, 4),\n",
        " 5: (3, 5),\n",
        " 6: (2, 4.5),\n",
        " 7: (6.5, 9),\n",
        " 8: (6.2, 5),\n",
        " 9: (5.5, 3),\n",
        " 10: (7, 3),\n",
        " 11: (7.5, 7.25),\n",
        " 12: (8, 4),\n",
        " 13: (11.5, 7.25),\n",
        " 14: (9, 1),\n",
        " 15: (11, 3),\n",
        " 16: (12, 2),\n",
        " 17: (12, 5),\n",
        " 18: (13.5, 6),\n",
        " 19: (14, 7.25),\n",
        " 20: (16, 4),\n",
        " 21: (18, 8.5),\n",
        " 22: (16, 1),\n",
        " 23: (21, 1),\n",
        " 24: (21, 4),\n",
        " 25: (18, 3.5),\n",
        " 26: (17, 2),\n",
        " 27: (19, 2)}"
       ]
      }
     ],
     "prompt_number": 85
    },
    {
     "cell_type": "code",
     "collapsed": false,
     "input": [
      "def connected_component(adjacency, node):\n",
      "    \"\"\"\n",
      "    Find the connected component that a node belongs to\n",
      "\n",
      "    Arguments\n",
      "    ---------\n",
      "\n",
      "    adjacency: (dict) key is a node, value is a list of adjacent nodes\n",
      "\n",
      "    node: id of node\n",
      "\n",
      "    Returns\n",
      "    -------\n",
      "\n",
      "    visited: list of nodes comprising the connected component containing node\n",
      "\n",
      "    Notes\n",
      "    -----\n",
      "    Relies on a depth first search of the graph\n",
      "    \"\"\"\n",
      "    A = copy.deepcopy(adjacency)\n",
      "    if node not in A:\n",
      "        # isolated node\n",
      "        return [node]\n",
      "    stack = [node]\n",
      "    visited = []\n",
      "    children = A[node]\n",
      "    searching = True\n",
      "    visited.append(node)\n",
      "    while searching:\n",
      "        current = stack[-1]\n",
      "        if A[current]:\n",
      "            child = A[current].pop()\n",
      "            if child not in visited:\n",
      "                visited.append(child)\n",
      "                stack.append(child)\n",
      "        else:\n",
      "            stack.remove(current)\n",
      "            if not stack:\n",
      "                searching = False\n",
      "    return visited\n",
      "        \n",
      "    "
     ],
     "language": "python",
     "metadata": {},
     "outputs": [],
     "prompt_number": 86
    },
    {
     "cell_type": "code",
     "collapsed": false,
     "input": [
      "connected_component(vertices,1)"
     ],
     "language": "python",
     "metadata": {},
     "outputs": [
      {
       "output_type": "pyout",
       "prompt_number": 87,
       "text": [
        "[1, 3, 4, 5, 6, 2, 7, 11, 13, 18, 19, 21, 20, 24, 23, 22, 12]"
       ]
      }
     ],
     "prompt_number": 87
    },
    {
     "cell_type": "code",
     "collapsed": false,
     "input": [
      "connected_component(vertices,13)"
     ],
     "language": "python",
     "metadata": {},
     "outputs": [
      {
       "output_type": "pyout",
       "prompt_number": 88,
       "text": [
        "[13, 18, 19, 21, 20, 24, 23, 22, 12, 11, 7, 2, 4, 5, 6, 3, 1]"
       ]
      }
     ],
     "prompt_number": 88
    },
    {
     "cell_type": "code",
     "collapsed": false,
     "input": [
      "edges = []\n",
      "for vert in vertices:\n",
      "    for dest in vertices[vert]:\n",
      "        edges.append((vert,dest))"
     ],
     "language": "python",
     "metadata": {},
     "outputs": [],
     "prompt_number": 89
    },
    {
     "cell_type": "code",
     "collapsed": false,
     "input": [
      "def connected_components(adjacency):\n",
      "    \"\"\"\n",
      "    Find all the connected components in a graph\n",
      "\n",
      "    Arguments\n",
      "    ---------\n",
      "    adjacency: (dict) key is a node, value is a list of adjacent nodes\n",
      "\n",
      "    Returns\n",
      "    -------\n",
      "\n",
      "    components: list of lists for connected components\n",
      "    \"\"\"\n",
      "    nodes = adjacency.keys()\n",
      "    components = []\n",
      "    while nodes:\n",
      "        start = nodes.pop()\n",
      "        component = connected_component(adjacency, start)\n",
      "        if len(component) > 1:\n",
      "            for node in component:\n",
      "                if node in nodes:\n",
      "                    nodes.remove(node)\n",
      "        components.append(component)\n",
      "    return components"
     ],
     "language": "python",
     "metadata": {},
     "outputs": [],
     "prompt_number": 90
    },
    {
     "cell_type": "code",
     "collapsed": false,
     "input": [
      "components = connected_components(vertices)\n",
      "components"
     ],
     "language": "python",
     "metadata": {},
     "outputs": [
      {
       "output_type": "pyout",
       "prompt_number": 91,
       "text": [
        "[[27, 26, 25],\n",
        " [24, 23, 22, 20, 21, 19, 18, 13, 12, 11, 7, 2, 4, 5, 6, 3, 1],\n",
        " [17],\n",
        " [16, 15, 14],\n",
        " [10, 9, 8],\n",
        " [0]]"
       ]
      }
     ],
     "prompt_number": 91
    },
    {
     "cell_type": "code",
     "collapsed": false,
     "input": [
      "nx.draw(g,pos = pos)"
     ],
     "language": "python",
     "metadata": {},
     "outputs": [
      {
       "output_type": "display_data",
       "png": "[encoded data removed]"
      }
     ],
     "prompt_number": 92
    },
    {
     "cell_type": "markdown",
     "metadata": {},
     "source": [
      "## Extract Primatives"
     ]
    },
    {
     "cell_type": "code",
     "collapsed": false,
     "input": [
      "edges = []\n",
      "for vert in vertices:\n",
      "    for dest in vertices[vert]:\n",
      "        edges.append((vert,dest))"
     ],
     "language": "python",
     "metadata": {},
     "outputs": [],
     "prompt_number": 93
    },
    {
     "cell_type": "code",
     "collapsed": false,
     "input": [
      "from test_wed2 import regions_from_graph\n",
      "mcb = regions_from_graph(coords,edges)"
     ],
     "language": "python",
     "metadata": {},
     "outputs": [],
     "prompt_number": 94
    },
    {
     "cell_type": "code",
     "collapsed": false,
     "input": [
      "mcb['regions']"
     ],
     "language": "python",
     "metadata": {},
     "outputs": [
      {
       "output_type": "pyout",
       "prompt_number": 95,
       "text": [
        "[[3, 4, 2, 1, 3],\n",
        " [9, 10, 8, 9],\n",
        " [11, 12, 13, 11],\n",
        " [12, 20, 19, 18, 13, 12],\n",
        " [19, 20, 21, 19],\n",
        " [22, 23, 24, 20, 22],\n",
        " [26, 27, 25, 26]]"
       ]
      }
     ],
     "prompt_number": 95
    },
    {
     "cell_type": "code",
     "collapsed": false,
     "input": [
      "mcb['filaments']"
     ],
     "language": "python",
     "metadata": {},
     "outputs": [
      {
       "output_type": "pyout",
       "prompt_number": 96,
       "text": [
        "[[6, 5, 4], [2, 7, 11], [14, 15, 16]]"
       ]
      }
     ],
     "prompt_number": 96
    },
    {
     "cell_type": "code",
     "collapsed": false,
     "input": [
      "mcb.keys()"
     ],
     "language": "python",
     "metadata": {},
     "outputs": [
      {
       "output_type": "pyout",
       "prompt_number": 97,
       "text": [
        "['regions', 'filaments', 'nodes', 'edges', 'vertices']"
       ]
      }
     ],
     "prompt_number": 97
    },
    {
     "cell_type": "markdown",
     "metadata": {},
     "source": [
      "## Extract WED"
     ]
    },
    {
     "cell_type": "markdown",
     "metadata": {},
     "source": [
      "Build up 10 pointers:\n",
      "\n",
      "- start_node[edge]\n",
      "- end_node[edge]\n",
      "- right_polygon[edge]\n",
      "- left_polygon[edge]\n",
      "- node_edge[node]\n",
      "- region_edge[edge]\n",
      "- s_c[edge]\n",
      "- s_cc[edge]\n",
      "- e_c[edge]\n",
      "- e_cc[edge]\n",
      "\n",
      "These are treated in different sections below."
     ]
    },
    {
     "cell_type": "markdown",
     "metadata": {},
     "source": [
      "### Edge pointers\n",
      "\n",
      "- start_node[edge]\n",
      "- end_node[edge]"
     ]
    },
    {
     "cell_type": "code",
     "collapsed": false,
     "input": [
      "regions = mcb['regions']\n",
      "edges = mcb['edges']\n",
      "vertices = mcb['vertices']\n",
      "start_node = {}\n",
      "end_node = {}\n",
      "for edge in edges:\n",
      "    start_node[edge] = edge[0]\n",
      "    end_node[edge] = edge[1]"
     ],
     "language": "python",
     "metadata": {},
     "outputs": [],
     "prompt_number": 98
    },
    {
     "cell_type": "markdown",
     "metadata": {},
     "source": [
      "### Right polygon for each edge in each region primative\n",
      "\n",
      "Also define start_c, end_cc for each polygon edge and start_cc and end_c for its twin"
     ]
    },
    {
     "cell_type": "code",
     "collapsed": false,
     "input": [
      "right_polygon = {}\n",
      "left_polygon = {}\n",
      "region_edge = {}\n",
      "start_c = {}\n",
      "start_cc = {}\n",
      "end_c = {}\n",
      "end_cc = {}\n",
      "node_edge = {}\n",
      "for ri,region in enumerate(regions):\n",
      "    # regions are ccw in mcb\n",
      "    region.reverse()\n",
      "    r = [region[-2]]\n",
      "    r.extend(region)\n",
      "    r.append(region[1])\n",
      "    for i in range(len(region)-1):\n",
      "        edge = r[i+1], r[i+2]\n",
      "        if edge[0] not in node_edge:\n",
      "            node_edge[edge[0]] = edge\n",
      "        if edge[1] not in node_edge:\n",
      "            node_edge[edge[1]] = edge\n",
      "        start_c[edge] = r[i],r[i+1]\n",
      "        end_cc[edge] = r[i+2], r[i+3]\n",
      "        right_polygon[edge] = ri\n",
      "        twin = edge[1],edge[0]\n",
      "        left_polygon[twin] = ri\n",
      "        start_cc[twin] = end_cc[edge]\n",
      "        end_c[twin] = start_c[edge]\n",
      "    region_edge[ri] = edge\n",
      "     \n",
      "    "
     ],
     "language": "python",
     "metadata": {},
     "outputs": [],
     "prompt_number": 99
    },
    {
     "cell_type": "code",
     "collapsed": false,
     "input": [
      "start_c[13,18]"
     ],
     "language": "python",
     "metadata": {},
     "outputs": [
      {
       "output_type": "pyout",
       "prompt_number": 100,
       "text": [
        "(12, 13)"
       ]
      }
     ],
     "prompt_number": 100
    },
    {
     "cell_type": "code",
     "collapsed": false,
     "input": [],
     "language": "python",
     "metadata": {},
     "outputs": [],
     "prompt_number": 100
    },
    {
     "cell_type": "code",
     "collapsed": false,
     "input": [
      "region"
     ],
     "language": "python",
     "metadata": {},
     "outputs": [
      {
       "output_type": "pyout",
       "prompt_number": 101,
       "text": [
        "[26, 25, 27, 26]"
       ]
      }
     ],
     "prompt_number": 101
    },
    {
     "cell_type": "code",
     "collapsed": false,
     "input": [
      "start_c[24,23]"
     ],
     "language": "python",
     "metadata": {},
     "outputs": [
      {
       "output_type": "pyout",
       "prompt_number": 102,
       "text": [
        "(20, 24)"
       ]
      }
     ],
     "prompt_number": 102
    },
    {
     "cell_type": "code",
     "collapsed": false,
     "input": [
      "pos"
     ],
     "language": "python",
     "metadata": {},
     "outputs": [
      {
       "output_type": "pyout",
       "prompt_number": 103,
       "text": [
        "[(1, 8),\n",
        " (1, 7),\n",
        " (4, 7),\n",
        " (0, 4),\n",
        " (5, 4),\n",
        " (3, 5),\n",
        " (2, 4.5),\n",
        " (6.5, 9),\n",
        " (6.2, 5),\n",
        " (5.5, 3),\n",
        " (7, 3),\n",
        " (7.5, 7.25),\n",
        " (8, 4),\n",
        " (11.5, 7.25),\n",
        " (9, 1),\n",
        " (11, 3),\n",
        " (12, 2),\n",
        " (12, 5),\n",
        " (13.5, 6),\n",
        " (14, 7.25),\n",
        " (16, 4),\n",
        " (18, 8.5),\n",
        " (16, 1),\n",
        " (21, 1),\n",
        " (21, 4),\n",
        " (18, 3.5),\n",
        " (17, 2),\n",
        " (19, 2)]"
       ]
      }
     ],
     "prompt_number": 103
    },
    {
     "cell_type": "code",
     "collapsed": false,
     "input": [
      "left_polygon.keys()"
     ],
     "language": "python",
     "metadata": {},
     "outputs": [
      {
       "output_type": "pyout",
       "prompt_number": 104,
       "text": [
        "[(1, 3),\n",
        " (22, 23),\n",
        " (2, 1),\n",
        " (8, 9),\n",
        " (19, 20),\n",
        " (10, 8),\n",
        " (13, 12),\n",
        " (12, 20),\n",
        " (12, 13),\n",
        " (23, 24),\n",
        " (27, 25),\n",
        " (25, 26),\n",
        " (21, 19),\n",
        " (18, 13),\n",
        " (20, 22),\n",
        " (19, 18),\n",
        " (9, 10),\n",
        " (20, 19),\n",
        " (4, 2),\n",
        " (11, 12),\n",
        " (24, 20),\n",
        " (26, 27),\n",
        " (20, 21),\n",
        " (13, 11),\n",
        " (3, 4)]"
       ]
      }
     ],
     "prompt_number": 104
    },
    {
     "cell_type": "code",
     "collapsed": false,
     "input": [
      "right_polygon.keys()"
     ],
     "language": "python",
     "metadata": {},
     "outputs": [
      {
       "output_type": "pyout",
       "prompt_number": 105,
       "text": [
        "[(27, 26),\n",
        " (20, 19),\n",
        " (9, 8),\n",
        " (25, 27),\n",
        " (18, 19),\n",
        " (26, 25),\n",
        " (1, 2),\n",
        " (22, 20),\n",
        " (13, 12),\n",
        " (20, 12),\n",
        " (12, 13),\n",
        " (8, 10),\n",
        " (24, 23),\n",
        " (23, 22),\n",
        " (10, 9),\n",
        " (19, 21),\n",
        " (21, 20),\n",
        " (12, 11),\n",
        " (19, 20),\n",
        " (20, 24),\n",
        " (3, 1),\n",
        " (13, 18),\n",
        " (4, 3),\n",
        " (11, 13),\n",
        " (2, 4)]"
       ]
      }
     ],
     "prompt_number": 105
    },
    {
     "cell_type": "code",
     "collapsed": false,
     "input": [
      "for key in right_polygon.keys():\n",
      "    if key not in left_polygon:\n",
      "        print key"
     ],
     "language": "python",
     "metadata": {},
     "outputs": [
      {
       "output_type": "stream",
       "stream": "stdout",
       "text": [
        "(27, 26)\n",
        "(9, 8)\n",
        "(25, 27)\n",
        "(18, 19)\n",
        "(26, 25)\n",
        "(1, 2)\n",
        "(22, 20)\n",
        "(20, 12)\n",
        "(8, 10)\n",
        "(24, 23)\n",
        "(23, 22)\n",
        "(10, 9)\n",
        "(19, 21)\n",
        "(21, 20)\n",
        "(12, 11)\n",
        "(20, 24)\n",
        "(3, 1)\n",
        "(13, 18)\n",
        "(4, 3)\n",
        "(11, 13)\n",
        "(2, 4)\n"
       ]
      }
     ],
     "prompt_number": 106
    },
    {
     "cell_type": "markdown",
     "metadata": {},
     "source": [
      "## Test for holes"
     ]
    },
    {
     "cell_type": "code",
     "collapsed": false,
     "input": [
      "#lp = right_polygon[20,24] # for now just assign as placeholder"
     ],
     "language": "python",
     "metadata": {},
     "outputs": [],
     "prompt_number": 107
    },
    {
     "cell_type": "code",
     "collapsed": false,
     "input": [
      "#left_polygon[26,25] = lp\n",
      "#left_polygon[25,27] = lp\n",
      "#left_polygon[27,26] = lp"
     ],
     "language": "python",
     "metadata": {},
     "outputs": [],
     "prompt_number": 108
    },
    {
     "cell_type": "markdown",
     "metadata": {},
     "source": [
      "### Edges belonging to a minium cycle at this point without a left region have external bounding polygon as implicit left poly. assign this explicitly"
     ]
    },
    {
     "cell_type": "code",
     "collapsed": false,
     "input": [
      "rpkeys = right_polygon.keys() # only minimum cycle regions have explicit right polygons\n",
      "noleft_poly = [k for k in rpkeys if k not in left_polygon]"
     ],
     "language": "python",
     "metadata": {},
     "outputs": [],
     "prompt_number": 109
    },
    {
     "cell_type": "code",
     "collapsed": false,
     "input": [
      "for edge in noleft_poly:\n",
      "    left_polygon[edge] = ri+1"
     ],
     "language": "python",
     "metadata": {},
     "outputs": [],
     "prompt_number": 110
    },
    {
     "cell_type": "code",
     "collapsed": false,
     "input": [
      "left_polygon"
     ],
     "language": "python",
     "metadata": {},
     "outputs": [
      {
       "output_type": "pyout",
       "prompt_number": 111,
       "text": [
        "{(1, 2): 7,\n",
        " (1, 3): 0,\n",
        " (2, 1): 0,\n",
        " (2, 4): 7,\n",
        " (3, 1): 7,\n",
        " (3, 4): 0,\n",
        " (4, 2): 0,\n",
        " (4, 3): 7,\n",
        " (8, 9): 1,\n",
        " (8, 10): 7,\n",
        " (9, 8): 7,\n",
        " (9, 10): 1,\n",
        " (10, 8): 1,\n",
        " (10, 9): 7,\n",
        " (11, 12): 2,\n",
        " (11, 13): 7,\n",
        " (12, 11): 7,\n",
        " (12, 13): 2,\n",
        " (12, 20): 3,\n",
        " (13, 11): 2,\n",
        " (13, 12): 3,\n",
        " (13, 18): 7,\n",
        " (18, 13): 3,\n",
        " (18, 19): 7,\n",
        " (19, 18): 3,\n",
        " (19, 20): 4,\n",
        " (19, 21): 7,\n",
        " (20, 12): 7,\n",
        " (20, 19): 3,\n",
        " (20, 21): 4,\n",
        " (20, 22): 5,\n",
        " (20, 24): 7,\n",
        " (21, 19): 4,\n",
        " (21, 20): 7,\n",
        " (22, 20): 7,\n",
        " (22, 23): 5,\n",
        " (23, 22): 7,\n",
        " (23, 24): 5,\n",
        " (24, 20): 5,\n",
        " (24, 23): 7,\n",
        " (25, 26): 6,\n",
        " (25, 27): 7,\n",
        " (26, 25): 7,\n",
        " (26, 27): 6,\n",
        " (27, 25): 6,\n",
        " (27, 26): 7}"
       ]
      }
     ],
     "prompt_number": 111
    },
    {
     "cell_type": "markdown",
     "metadata": {},
     "source": [
      "### Fill out s_c, s_cc, e_c, e_cc pointers for each edge (before filaments are added)"
     ]
    },
    {
     "cell_type": "code",
     "collapsed": false,
     "input": [
      "start_cc"
     ],
     "language": "python",
     "metadata": {},
     "outputs": [
      {
       "output_type": "pyout",
       "prompt_number": 112,
       "text": [
        "{(1, 3): (1, 2),\n",
        " (2, 1): (2, 4),\n",
        " (3, 4): (3, 1),\n",
        " (4, 2): (4, 3),\n",
        " (8, 9): (8, 10),\n",
        " (9, 10): (9, 8),\n",
        " (10, 8): (10, 9),\n",
        " (11, 12): (11, 13),\n",
        " (12, 13): (12, 11),\n",
        " (12, 20): (12, 13),\n",
        " (13, 11): (13, 12),\n",
        " (13, 12): (13, 18),\n",
        " (18, 13): (18, 19),\n",
        " (19, 18): (19, 20),\n",
        " (19, 20): (19, 21),\n",
        " (20, 19): (20, 12),\n",
        " (20, 21): (20, 19),\n",
        " (20, 22): (20, 24),\n",
        " (21, 19): (21, 20),\n",
        " (22, 23): (22, 20),\n",
        " (23, 24): (23, 22),\n",
        " (24, 20): (24, 23),\n",
        " (25, 26): (25, 27),\n",
        " (26, 27): (26, 25),\n",
        " (27, 25): (27, 26)}"
       ]
      }
     ],
     "prompt_number": 112
    },
    {
     "cell_type": "code",
     "collapsed": false,
     "input": [
      "def enum_links_node(start_c, end_c, node_edge, node):\n",
      "    links = []\n",
      "    if node not in node_edge:\n",
      "        return links\n",
      "    l0 = node_edge[node]\n",
      "    links.append(l0)\n",
      "    l = l0\n",
      "    v = node\n",
      "    searching = True\n",
      "    while searching:\n",
      "        if v == l[0]:\n",
      "            l = start_c[l]\n",
      "        else:\n",
      "            l = end_c[l]\n",
      "        if (l is None) or (set(l) == set(l0)):\n",
      "            searching = False\n",
      "        else:\n",
      "            links.append(l)\n",
      "    return links\n",
      "    "
     ],
     "language": "python",
     "metadata": {},
     "outputs": [],
     "prompt_number": 113
    },
    {
     "cell_type": "code",
     "collapsed": false,
     "input": [
      "#enum_links_node(start_c, end_c, node_edge, 3)"
     ],
     "language": "python",
     "metadata": {},
     "outputs": [],
     "prompt_number": 114
    },
    {
     "cell_type": "code",
     "collapsed": false,
     "input": [
      "#node_edge[13]"
     ],
     "language": "python",
     "metadata": {},
     "outputs": [],
     "prompt_number": 115
    },
    {
     "cell_type": "code",
     "collapsed": false,
     "input": [
      "#end_c[11,13] # this should be 13,18. when we walk around the component (after inserting filament) this would be updated correctly"
     ],
     "language": "python",
     "metadata": {},
     "outputs": [],
     "prompt_number": 116
    },
    {
     "cell_type": "code",
     "collapsed": false,
     "input": [
      "#start_c[13,18]"
     ],
     "language": "python",
     "metadata": {},
     "outputs": [],
     "prompt_number": 117
    },
    {
     "cell_type": "markdown",
     "metadata": {},
     "source": [
      "### Find union of regions"
     ]
    },
    {
     "cell_type": "code",
     "collapsed": false,
     "input": [
      "import math\n",
      "\n",
      "def dotproduct(v1, v2):\n",
      "    return sum((a*b) for a,b in zip(v1, v2))\n",
      "\n",
      "def length(v):\n",
      "    return math.sqrt(dotproduct(v,v))\n",
      "\n",
      "def angle(v1, v2):\n",
      "    return math.acos(dotproduct(v1, v2) / (length(v1) * length(v2)))"
     ],
     "language": "python",
     "metadata": {},
     "outputs": [],
     "prompt_number": 118
    },
    {
     "cell_type": "code",
     "collapsed": false,
     "input": [
      "# find the union of adjacent faces/regions\n",
      "coords = pos\n",
      "unions = []\n",
      "while noleft_poly:\n",
      "    path =[]\n",
      "    current = noleft_poly.pop()\n",
      "    path_head = current[0]\n",
      "    tail = current[1]\n",
      "    path.append(current)\n",
      "    while tail != path_head:\n",
      "        candidates = [ edge for edge in noleft_poly if edge[0] == tail ]\n",
      "        j=0\n",
      "        if len(candidates) > 1:\n",
      "            # we want candidate that forms largest ccw angle from current\n",
      "            angles = []\n",
      "            origin = coords[current[1]]\n",
      "            x0 = coords[current[0]][0] - origin[0]\n",
      "            y0 = coords[current[0]][1] - origin[1]\n",
      "            maxangle = 0.0\n",
      "            v0 = (x0,y0)\n",
      "            \n",
      "            for i,candidate in enumerate(candidates):\n",
      "                x1 = coords[candidate[1]][0] - origin[0]\n",
      "                y1 = coords[candidate[1]][1] - origin[1]\n",
      "                v1 = (x1,y1)\n",
      "                v0_v1 = angle(v0, v1)\n",
      "                if v0_v1 > maxangle:\n",
      "                    maxangle = v0_v1\n",
      "                    j=i\n",
      "                angles.append(v0_v1)\n",
      "                \n",
      "        next_edge = candidates[j]\n",
      "        path.append(next_edge)\n",
      "        noleft_poly.remove(next_edge)\n",
      "        tail = next_edge[1]\n",
      "    unions.append(path)\n",
      "        \n",
      "    "
     ],
     "language": "python",
     "metadata": {},
     "outputs": [],
     "prompt_number": 119
    },
    {
     "cell_type": "code",
     "collapsed": false,
     "input": [
      "# unions has the path that traces out the union of contiguous regions (in cw order) "
     ],
     "language": "python",
     "metadata": {},
     "outputs": [],
     "prompt_number": 120
    },
    {
     "cell_type": "code",
     "collapsed": false,
     "input": [
      "unions"
     ],
     "language": "python",
     "metadata": {},
     "outputs": [
      {
       "output_type": "pyout",
       "prompt_number": 121,
       "text": [
        "[[(2, 4), (4, 3), (3, 1), (1, 2)],\n",
        " [(11, 13),\n",
        "  (13, 18),\n",
        "  (18, 19),\n",
        "  (19, 21),\n",
        "  (21, 20),\n",
        "  (20, 24),\n",
        "  (24, 23),\n",
        "  (23, 22),\n",
        "  (22, 20),\n",
        "  (20, 12),\n",
        "  (12, 11)],\n",
        " [(10, 9), (9, 8), (8, 10)],\n",
        " [(26, 25), (25, 27), (27, 26)]]"
       ]
      }
     ],
     "prompt_number": 121
    },
    {
     "cell_type": "code",
     "collapsed": false,
     "input": [
      "# Walk around each union in cw fashion\n",
      "# start_cc[current] = prev\n",
      "# end_c[current] = next\n",
      "for union in unions:\n",
      "    print union\n",
      "    for prev, edge in enumerate(union[1:-1]):\n",
      "        start_cc[edge] = union[prev]\n",
      "        end_c[edge] = union[prev+2]\n",
      "        print edge, start_cc[edge]\n",
      "    start_cc[union[0]] = union[-1]\n",
      "    end_c[union[0]] = union[1]\n",
      "    end_c[union[-1]] = union[0]\n",
      "    start_cc[union[-1]] = union[-2]"
     ],
     "language": "python",
     "metadata": {},
     "outputs": [
      {
       "output_type": "stream",
       "stream": "stdout",
       "text": [
        "[(2, 4), (4, 3), (3, 1), (1, 2)]\n",
        "(4, 3) (2, 4)\n",
        "(3, 1) (4, 3)\n",
        "[(11, 13), (13, 18), (18, 19), (19, 21), (21, 20), (20, 24), (24, 23), (23, 22), (22, 20), (20, 12), (12, 11)]\n",
        "(13, 18) (11, 13)\n",
        "(18, 19) (13, 18)\n",
        "(19, 21) (18, 19)\n",
        "(21, 20) (19, 21)\n",
        "(20, 24) (21, 20)\n",
        "(24, 23) (20, 24)\n",
        "(23, 22) (24, 23)\n",
        "(22, 20) (23, 22)\n",
        "(20, 12) (22, 20)\n",
        "[(10, 9), (9, 8), (8, 10)]\n",
        "(9, 8) (10, 9)\n",
        "[(26, 25), (25, 27), (27, 26)]\n",
        "(25, 27) (26, 25)\n"
       ]
      }
     ],
     "prompt_number": 122
    },
    {
     "cell_type": "code",
     "collapsed": false,
     "input": [
      "start_cc[13,18]"
     ],
     "language": "python",
     "metadata": {},
     "outputs": [
      {
       "output_type": "pyout",
       "prompt_number": 123,
       "text": [
        "(11, 13)"
       ]
      }
     ],
     "prompt_number": 123
    },
    {
     "cell_type": "code",
     "collapsed": false,
     "input": [
      "components"
     ],
     "language": "python",
     "metadata": {},
     "outputs": [
      {
       "output_type": "pyout",
       "prompt_number": 124,
       "text": [
        "[[27, 26, 25],\n",
        " [24, 23, 22, 20, 21, 19, 18, 13, 12, 11, 7, 2, 4, 5, 6, 3, 1],\n",
        " [17],\n",
        " [16, 15, 14],\n",
        " [10, 9, 8],\n",
        " [0]]"
       ]
      }
     ],
     "prompt_number": 124
    },
    {
     "cell_type": "code",
     "collapsed": false,
     "input": [
      "enum_links_node(start_c, end_c, node_edge, 11)"
     ],
     "language": "python",
     "metadata": {},
     "outputs": [
      {
       "output_type": "pyout",
       "prompt_number": 125,
       "text": [
        "[(11, 13), (12, 11)]"
       ]
      }
     ],
     "prompt_number": 125
    },
    {
     "cell_type": "code",
     "collapsed": false,
     "input": [
      "enum_links_node(start_c, end_c, node_edge, 13)"
     ],
     "language": "python",
     "metadata": {},
     "outputs": [
      {
       "output_type": "pyout",
       "prompt_number": 126,
       "text": [
        "[(11, 13), (13, 18), (12, 13)]"
       ]
      }
     ],
     "prompt_number": 126
    },
    {
     "cell_type": "code",
     "collapsed": false,
     "input": [
      "enum_links_node(start_c, end_c, node_edge, 20)"
     ],
     "language": "python",
     "metadata": {},
     "outputs": [
      {
       "output_type": "pyout",
       "prompt_number": 127,
       "text": [
        "[(19, 20), (21, 20), (20, 24), (22, 20), (20, 12)]"
       ]
      }
     ],
     "prompt_number": 127
    },
    {
     "cell_type": "code",
     "collapsed": false,
     "input": [
      "enum_links_node(start_c, end_c, node_edge, 12)"
     ],
     "language": "python",
     "metadata": {},
     "outputs": [
      {
       "output_type": "pyout",
       "prompt_number": 128,
       "text": [
        "[(13, 12), (20, 12), (12, 11)]"
       ]
      }
     ],
     "prompt_number": 128
    },
    {
     "cell_type": "code",
     "collapsed": false,
     "input": [
      "mcb['filaments']"
     ],
     "language": "python",
     "metadata": {},
     "outputs": [
      {
       "output_type": "pyout",
       "prompt_number": 129,
       "text": [
        "[[6, 5, 4], [2, 7, 11], [14, 15, 16]]"
       ]
      }
     ],
     "prompt_number": 129
    },
    {
     "cell_type": "code",
     "collapsed": false,
     "input": [
      "enum_links_node(start_c, end_c, node_edge, 2)"
     ],
     "language": "python",
     "metadata": {},
     "outputs": [
      {
       "output_type": "pyout",
       "prompt_number": 130,
       "text": [
        "[(1, 2), (2, 4)]"
       ]
      }
     ],
     "prompt_number": 130
    },
    {
     "cell_type": "code",
     "collapsed": false,
     "input": [
      "# we need to attach filaments at this point\n",
      "# internal filaments get left and right poly set to containing poly\n",
      "# external filaments get left and right poly set to external poly\n",
      "# bridge filaments get left and right poly set to external poly\n",
      "# isolated filaments (not contained in mcb-regions) have left and right poly set to external poly\n",
      "\n",
      "# after this find the holes in the external polygon (these should be the connected components)"
     ],
     "language": "python",
     "metadata": {},
     "outputs": [],
     "prompt_number": 131
    },
    {
     "cell_type": "code",
     "collapsed": false,
     "input": [
      "mcb['regions']"
     ],
     "language": "python",
     "metadata": {},
     "outputs": [
      {
       "output_type": "pyout",
       "prompt_number": 132,
       "text": [
        "[[3, 1, 2, 4, 3],\n",
        " [9, 8, 10, 9],\n",
        " [11, 13, 12, 11],\n",
        " [12, 13, 18, 19, 20, 12],\n",
        " [19, 21, 20, 19],\n",
        " [22, 20, 24, 23, 22],\n",
        " [26, 25, 27, 26]]"
       ]
      }
     ],
     "prompt_number": 132
    },
    {
     "cell_type": "code",
     "collapsed": false,
     "input": [
      "enum_links_node(start_c, end_c, node_edge, 4) #before filaments"
     ],
     "language": "python",
     "metadata": {},
     "outputs": [
      {
       "output_type": "pyout",
       "prompt_number": 133,
       "text": [
        "[(2, 4), (4, 3)]"
       ]
      }
     ],
     "prompt_number": 133
    },
    {
     "cell_type": "markdown",
     "metadata": {},
     "source": [
      "### Fill out s_c, s_cc, e_c, e_cc pointers for each edge after filaments are inserted"
     ]
    },
    {
     "cell_type": "code",
     "collapsed": false,
     "input": [
      "\n",
      "regions = [set(region) for region in mcb['regions']]\n",
      "filaments = mcb['filaments']\n",
      "filament_region = {}\n",
      "for f,filament in enumerate(filaments):\n",
      "    filament_region[f] = []\n",
      "    # set up pointers on filament edges prior to insertion \n",
      "    n_fil = len(filament)\n",
      "    if n_fil == 2:\n",
      "        edge = filament[0],filament[1]\n",
      "        start_c[edge] = edge\n",
      "        start_cc[edge] = edge\n",
      "        end_c[edge] = edge\n",
      "        end_cc[edge] = edge\n",
      "        if edge[0] not in node_edge:\n",
      "            node_edge[edge[0]] = edge\n",
      "        if edge[1] not in node_edge:\n",
      "            node_edge[edge[1]] = edge\n",
      "    elif n_fil == 3:\n",
      "        edge = filament[0],filament[1]\n",
      "        start_c[edge] = edge\n",
      "        start_cc[edge] = edge\n",
      "        node_edge[edge[0]] = edge\n",
      "        succ = filament[1], filament[2]\n",
      "        end_c[edge] = succ\n",
      "        end_cc[edge] = succ\n",
      "        start_c[succ] = edge\n",
      "        start_cc[succ] = edge\n",
      "        end_c[succ] = succ\n",
      "        end_cc[succ] = succ\n",
      "        if succ[0] not in node_edge:\n",
      "            node_edge[succ[0]] = succ\n",
      "        if succ[1] not in node_edge:\n",
      "            node_edge[succ[1]] = succ\n",
      "    else:\n",
      "        n_head = n_fil - 2 # intermediate start nodes\n",
      "        for i in range(1,n_head):\n",
      "            edge = filament[i], filament[i+1]\n",
      "            start_c[edge] = filamet[i-1], filament[i]\n",
      "            start_cc[edge] = filament[i-1], filament[i]\n",
      "            end_c[edge] = filament[i+1], filament[i+2]\n",
      "            end_cc[edge] = filament[i+1], filament[i+2]\n",
      "            if edge[0] not in node_edge:\n",
      "                node_edge[edge[0]] = edge\n",
      "        # first edge\n",
      "        start_c[filament[0],filament[1]] = filament[0], filament[1]\n",
      "        start_cc[filament[0],filament[1]] = filament[0], filament[1]\n",
      "        end_c[filament[0],filament[1]] = filament[1], filament[2]\n",
      "        end_cc[filament[0],filament[1]] = filament[1], filament[2]\n",
      "        # last edge\n",
      "        start_c[filament[-2],filament[-1]] = filament[-3], filament[-2]\n",
      "        start_cc[filament[-2],filament[-1]] = filament[-3], filament[-2]\n",
      "        end_c[filament[-2],filament[-1]] = filament[-2], filament[-1]\n",
      "        end_cc[filament[-2],filament[-1]] = filament[-2], filament[-1]\n",
      "        \n",
      "    # find which regions the filament is adjacent to\n",
      "    sf = set(filament)\n",
      "    for r,region in enumerate(regions):\n",
      "        sfi = sf.intersection(region)\n",
      "        if sfi:\n",
      "            node = sfi.pop()\n",
      "            filament_region[f].append(r)\n",
      "            # find edges in region that that are adjacent to sfi\n",
      "             # find which pair of edges in the region that the filament bisects\n",
      "            print node, mcb['regions'][r], filament\n",
      "            if mcb['regions'][r].count(node) == 2:\n",
      "                e1 = node, mcb['regions'][r][-2]\n",
      "                e2 = node, mcb['regions'][r][1]\n",
      "            else:\n",
      "                i = mcb['regions'][r].index(node)\n",
      "                e1 = node, mcb['regions'][r][i-1]\n",
      "                e2 = node, mcb['regions'][r][i+1]\n",
      "                \n",
      "            print e1,e2\n",
      "            \n",
      "            # get filament edge\n",
      "            fi = filament.index(node)\n",
      "        \n",
      "            fstart = True # start of filament is adjacent node to region\n",
      "            if filament[-1] == filament[fi]:\n",
      "                filament.reverse() # put endnode at tail of list\n",
      "                fstart = False # end of filament is adjacent node to region\n",
      "            fi = 0\n",
      "            fj = 1\n",
      "\n",
      "                \n",
      "            print filament[fi],filament[fj]\n",
      "            node_edge[filament[fj]] = filament[fi], filament[fj]\n",
      "            \n",
      "            # if filament[j] is right of both e1[1],e1[0], and e2[0], e2[1] it is an internal filament to the region\n",
      "            \n",
      "            A = vertices[e1[1]]\n",
      "            B = vertices[e1[0]]\n",
      "            C = vertices[filament[fj]]\n",
      "            area_abc = A[0] * (B[1]-C[1]) + B[0] * (C[1]-A[1]) + C[0] * (A[1]- B[1])\n",
      "            D = vertices[e2[0]]\n",
      "            E = vertices[e2[1]]\n",
      "            area_dec = D[0] * (E[1] - C[1]) + E[0] * (C[1] - D[1]) + C[0] * (D[1] - E[1])\n",
      "            \n",
      "\n",
      "            if area_abc < 0 and area_dec < 0:\n",
      "\n",
      "                # print 'inside'\n",
      "                end_cc[e1[1],e1[0]] = filament[fi],filament[fj]\n",
      "                start_c[e2] = filament[fi],filament[fj]\n",
      "                start_c[filament[fi],filament[fj]] = e1[1],e1[0]\n",
      "                start_cc[filament[fi],filament[fj]] = e2\n",
      "                right_polygon[filament[fi],filament[fj]] = r\n",
      "                left_polygon[filament[fi],filament[fj]] = r\n",
      "                \n",
      "                n_f = len(filament) - 1 # number of filament edges\n",
      "                for j in range(1,n_f):\n",
      "                    sj = j\n",
      "                    ej = j + 1\n",
      "                    start_c[filament[sj],filament[ej]] = filament[sj-1], filament[sj]\n",
      "                    start_cc[filament[sj],filament[ej]] = filament[sj-1], filament[sj]\n",
      "                    end_c[filament[sj-1], filament[sj]] = filament[sj],filament[ej]\n",
      "                    end_cc[filament[sj-1], filament[sj]] = filament[sj],filament[ej]\n",
      "                    #node_edge[filament[sj]] = filament[sj],filament[ej]\n",
      "                    right_polygon[filament[sj],filament[ej]] = r\n",
      "                    left_polygon[filament[sj],filament[ej]] = r\n",
      "                # last edge\n",
      "                end_c[filament[-2],filament[-1]] = filament[-2],filament[-1]\n",
      "                end_cc[filament[-2],filament[-1]] = filament[-2],filament[-1]\n",
      "                #node_edge[filament[-1]] = filament[-2],filament[-1]\n",
      "                right_polygon[filament[-1],filament[-2]] = r\n",
      "                left_polygon[filament[-1],filament[-2]] = r\n",
      "               \n",
      "                \n",
      "            else:\n",
      "                # print 'outside'\n",
      "                end_c[e1[1],e1[0]] = filament[fi],filament[fj]\n",
      "                start_cc[e2] = filament[fi],filament[fj]\n",
      "                start_cc[filament[fi],filament[fj]] = e1[1],e1[0]\n",
      "                start_c[filament[fi],filament[fj]] = e2\n",
      "                \n",
      "                n_f = len(filament) - 1 # number of filament edges\n",
      "                for j in range(1,n_f):\n",
      "                    sj = j\n",
      "                    ej = j + 1\n",
      "                    start_c[filament[sj],filament[ej]] = filament[sj-1], filament[sj]\n",
      "                    start_cc[filament[sj],filament[ej]] = filament[sj-1], filament[sj]\n",
      "                    end_c[filament[sj-1], filament[sj]] = filament[sj],filament[ej]\n",
      "                    end_cc[filament[sj-1], filament[sj]] = filament[sj],filament[ej]\n",
      "                    #node_edge[filament[sj]] = filament[sj],filament[ej]\n",
      "\n",
      "                # last edge\n",
      "                end_c[filament[-2],filament[-1]] = filament[-2],filament[-1]\n",
      "                end_cc[filament[-2],filament[-1]] = filament[-2],filament[-1]\n",
      "                #node_edge[filament[-1]] = filament[-2],filament[-1]\n",
      "               \n",
      "            \n",
      "            \n",
      "\n",
      "            \n",
      "           \n",
      "            \n",
      "\n",
      "            \n",
      "    \n",
      "    \n",
      "    "
     ],
     "language": "python",
     "metadata": {},
     "outputs": [
      {
       "output_type": "stream",
       "stream": "stdout",
       "text": [
        "4 [3, 1, 2, 4, 3] [6, 5, 4]\n",
        "(4, 2) (4, 3)\n",
        "4 5\n",
        "2 [3, 1, 2, 4, 3] [2, 7, 11]\n",
        "(2, 1) (2, 4)\n",
        "2 7\n",
        "11 [11, 13, 12, 11] [2, 7, 11]\n",
        "(11, 12) (11, 13)\n",
        "11 7\n"
       ]
      }
     ],
     "prompt_number": 134
    },
    {
     "cell_type": "code",
     "collapsed": false,
     "input": [
      "start_c[2,7]"
     ],
     "language": "python",
     "metadata": {},
     "outputs": [
      {
       "output_type": "pyout",
       "prompt_number": 135,
       "text": [
        "(2, 4)"
       ]
      }
     ],
     "prompt_number": 135
    },
    {
     "cell_type": "code",
     "collapsed": false,
     "input": [
      "start_cc[2,7]"
     ],
     "language": "python",
     "metadata": {},
     "outputs": [
      {
       "output_type": "pyout",
       "prompt_number": 136,
       "text": [
        "(1, 2)"
       ]
      }
     ],
     "prompt_number": 136
    },
    {
     "cell_type": "code",
     "collapsed": false,
     "input": [
      "end_c[1,2]"
     ],
     "language": "python",
     "metadata": {},
     "outputs": [
      {
       "output_type": "pyout",
       "prompt_number": 137,
       "text": [
        "(2, 7)"
       ]
      }
     ],
     "prompt_number": 137
    },
    {
     "cell_type": "code",
     "collapsed": false,
     "input": [
      "start_cc[2,4]"
     ],
     "language": "python",
     "metadata": {},
     "outputs": [
      {
       "output_type": "pyout",
       "prompt_number": 138,
       "text": [
        "(2, 7)"
       ]
      }
     ],
     "prompt_number": 138
    },
    {
     "cell_type": "code",
     "collapsed": false,
     "input": [
      "enum_links_node(start_c,end_c,node_edge,7)"
     ],
     "language": "python",
     "metadata": {},
     "outputs": [
      {
       "output_type": "pyout",
       "prompt_number": 139,
       "text": [
        "[(11, 7), (7, 2)]"
       ]
      }
     ],
     "prompt_number": 139
    },
    {
     "cell_type": "code",
     "collapsed": false,
     "input": [
      "enum_links_node(start_c,end_c,node_edge,15)"
     ],
     "language": "python",
     "metadata": {},
     "outputs": [
      {
       "output_type": "pyout",
       "prompt_number": 140,
       "text": [
        "[(15, 16), (14, 15)]"
       ]
      }
     ],
     "prompt_number": 140
    },
    {
     "cell_type": "code",
     "collapsed": false,
     "input": [
      "enum_links_node(start_c,end_c,node_edge,2)"
     ],
     "language": "python",
     "metadata": {},
     "outputs": [
      {
       "output_type": "pyout",
       "prompt_number": 141,
       "text": [
        "[(2, 7), (2, 4), (1, 2)]"
       ]
      }
     ],
     "prompt_number": 141
    },
    {
     "cell_type": "code",
     "collapsed": false,
     "input": [
      "enum_links_node(start_c,end_c,node_edge,13)"
     ],
     "language": "python",
     "metadata": {},
     "outputs": [
      {
       "output_type": "pyout",
       "prompt_number": 142,
       "text": [
        "[(11, 13), (13, 18), (12, 13)]"
       ]
      }
     ],
     "prompt_number": 142
    },
    {
     "cell_type": "code",
     "collapsed": false,
     "input": [
      "enum_links_node(start_c, end_c, node_edge, 4)"
     ],
     "language": "python",
     "metadata": {},
     "outputs": [
      {
       "output_type": "pyout",
       "prompt_number": 143,
       "text": [
        "[(2, 4), (4, 3), (4, 5)]"
       ]
      }
     ],
     "prompt_number": 143
    },
    {
     "cell_type": "code",
     "collapsed": false,
     "input": [
      "enum_links_node(start_c, end_c, node_edge, 6)"
     ],
     "language": "python",
     "metadata": {},
     "outputs": [
      {
       "output_type": "pyout",
       "prompt_number": 144,
       "text": [
        "[(6, 5)]"
       ]
      }
     ],
     "prompt_number": 144
    },
    {
     "cell_type": "code",
     "collapsed": false,
     "input": [
      "enum_links_node(start_c, end_c, node_edge, 5)"
     ],
     "language": "python",
     "metadata": {},
     "outputs": [
      {
       "output_type": "pyout",
       "prompt_number": 145,
       "text": [
        "[(4, 5), (5, 6)]"
       ]
      }
     ],
     "prompt_number": 145
    },
    {
     "cell_type": "code",
     "collapsed": false,
     "input": [
      "enum_links_node(start_c, end_c, node_edge, 20)"
     ],
     "language": "python",
     "metadata": {},
     "outputs": [
      {
       "output_type": "pyout",
       "prompt_number": 146,
       "text": [
        "[(19, 20), (21, 20), (20, 24), (22, 20), (20, 12)]"
       ]
      }
     ],
     "prompt_number": 146
    },
    {
     "cell_type": "code",
     "collapsed": false,
     "input": [
      "enum_links_node(start_c, end_c, node_edge, 19)"
     ],
     "language": "python",
     "metadata": {},
     "outputs": [
      {
       "output_type": "pyout",
       "prompt_number": 147,
       "text": [
        "[(18, 19), (19, 21), (20, 19)]"
       ]
      }
     ],
     "prompt_number": 147
    },
    {
     "cell_type": "code",
     "collapsed": false,
     "input": [
      "enum_links_node(start_c, end_c, node_edge, 12)"
     ],
     "language": "python",
     "metadata": {},
     "outputs": [
      {
       "output_type": "pyout",
       "prompt_number": 148,
       "text": [
        "[(13, 12), (20, 12), (12, 11)]"
       ]
      }
     ],
     "prompt_number": 148
    },
    {
     "cell_type": "code",
     "collapsed": false,
     "input": [
      "enum_links_node(start_c, end_c, node_edge, 11)"
     ],
     "language": "python",
     "metadata": {},
     "outputs": [
      {
       "output_type": "pyout",
       "prompt_number": 149,
       "text": [
        "[(11, 13), (12, 11), (11, 7)]"
       ]
      }
     ],
     "prompt_number": 149
    },
    {
     "cell_type": "code",
     "collapsed": false,
     "input": [
      "for node in range(0,28):\n",
      "    try:\n",
      "        print node, enum_links_node(start_c, end_c, node_edge, node)\n",
      "    except:\n",
      "        print node"
     ],
     "language": "python",
     "metadata": {},
     "outputs": [
      {
       "output_type": "stream",
       "stream": "stdout",
       "text": [
        "0 []\n",
        "1 [(3, 1), (1, 2)]\n",
        "2 [(2, 7), (2, 4), (1, 2)]\n",
        "3 [(3, 1), (4, 3)]\n",
        "4 [(2, 4), (4, 3), (4, 5)]\n",
        "5 [(4, 5), (5, 6)]\n",
        "6 [(6, 5)]\n",
        "7 [(11, 7), (7, 2)]\n",
        "8 [(9, 8), (8, 10)]\n",
        "9 [(9, 8), (10, 9)]\n",
        "10 [(8, 10), (10, 9)]\n",
        "11 [(11, 13), (12, 11), (11, 7)]\n",
        "12 [(13, 12), (20, 12), (12, 11)]\n",
        "13 [(11, 13), (13, 18), (12, 13)]\n",
        "14 [(14, 15)]\n",
        "15 [(15, 16), (14, 15)]\n",
        "16 [(15, 16)]\n",
        "17 []\n",
        "18 [(13, 18), (18, 19)]\n",
        "19 [(18, 19), (19, 21), (20, 19)]\n",
        "20 [(19, 20), (21, 20), (20, 24), (22, 20), (20, 12)]\n",
        "21 [(19, 21), (21, 20)]\n",
        "22 [(22, 20), (23, 22)]\n",
        "23 [(24, 23), (23, 22)]\n",
        "24 [(20, 24), (24, 23)]\n",
        "25 [(26, 25), (25, 27)]\n",
        "26 [(26, 25), (27, 26)]\n",
        "27 [(25, 27), (27, 26)]\n"
       ]
      }
     ],
     "prompt_number": 150
    },
    {
     "cell_type": "code",
     "collapsed": false,
     "input": [
      "enum_links_node(start_c, end_c, node_edge, 25)"
     ],
     "language": "python",
     "metadata": {},
     "outputs": [
      {
       "output_type": "pyout",
       "prompt_number": 69,
       "text": [
        "[(26, 25), (25, 27)]"
       ]
      }
     ],
     "prompt_number": 69
    },
    {
     "cell_type": "markdown",
     "metadata": {},
     "source": [
      "## WED is complete!"
     ]
    },
    {
     "cell_type": "code",
     "collapsed": false,
     "input": [
      "# test case for multiple internal filaments in one region\n",
      "\n",
      "vertices = {}\n",
      "vertices[1] = array([0,10])\n",
      "vertices[2] = array([10,10])\n",
      "vertices[4] = array([10, 0])\n",
      "vertices[3] = array([0, 0])\n",
      "vertices[5] = array([6,1])\n",
      "vertices[6] = array([6,3])\n",
      "vertices[7] = array([6,7])\n",
      "vertices[8] = array([6,5])\n",
      "vertices[9] = array([15,5])\n"
     ],
     "language": "python",
     "metadata": {},
     "outputs": [],
     "prompt_number": 70
    },
    {
     "cell_type": "code",
     "collapsed": false,
     "input": [
      "vertices"
     ],
     "language": "python",
     "metadata": {},
     "outputs": [
      {
       "output_type": "pyout",
       "prompt_number": 71,
       "text": [
        "{1: array([ 0, 10]),\n",
        " 2: array([10, 10]),\n",
        " 3: array([0, 0]),\n",
        " 4: array([10,  0]),\n",
        " 5: array([6, 1]),\n",
        " 6: array([6, 3]),\n",
        " 7: array([6, 7]),\n",
        " 8: array([6, 5]),\n",
        " 9: array([15,  5])}"
       ]
      }
     ],
     "prompt_number": 71
    },
    {
     "cell_type": "code",
     "collapsed": false,
     "input": [
      "regions = [[1,2,4,3,1]]"
     ],
     "language": "python",
     "metadata": {},
     "outputs": [],
     "prompt_number": 72
    },
    {
     "cell_type": "code",
     "collapsed": false,
     "input": [
      "regions"
     ],
     "language": "python",
     "metadata": {},
     "outputs": [
      {
       "output_type": "pyout",
       "prompt_number": 73,
       "text": [
        "[[1, 2, 4, 3, 1]]"
       ]
      }
     ],
     "prompt_number": 73
    },
    {
     "cell_type": "code",
     "collapsed": false,
     "input": [
      "edges = [(1,2),(2,4),(4,3), (3,1)]"
     ],
     "language": "python",
     "metadata": {},
     "outputs": [],
     "prompt_number": 74
    },
    {
     "cell_type": "code",
     "collapsed": false,
     "input": [
      "filaments = [ (4,5), (4,6), (4,7), (4,8) ]"
     ],
     "language": "python",
     "metadata": {},
     "outputs": [],
     "prompt_number": 75
    },
    {
     "cell_type": "code",
     "collapsed": false,
     "input": [
      "def convex(v0, v1, v):\n",
      "    \"\"\" test if vector v is between v0 and v1 where v0[0]==v1[0]==v[0]\n",
      "    v0 = list of two points\n",
      "\n",
      "    \"\"\"\n",
      "    d0 = v0[1] - v0[0]\n",
      "    d = v[1] - v[0]\n",
      "    \n",
      "    s1 = d0[0]*d[1]-d0[1]*d[0]\n",
      "    if s1 > 0.0:\n",
      "        d1 = v1[1] - v0[0]\n",
      "        s2 = d[0]*d1[1]-d[1]*d1[0]\n",
      "        if s2 > 0.0:\n",
      "            return True\n",
      "    return False\n",
      "    "
     ],
     "language": "python",
     "metadata": {},
     "outputs": [],
     "prompt_number": 76
    },
    {
     "cell_type": "code",
     "collapsed": false,
     "input": [
      "v0 =[array([10,0]),array([10,10])]\n",
      "v1 =[array([10,0]),array([0,0])]\n",
      "v = [array([10,0]),array([6,5])]"
     ],
     "language": "python",
     "metadata": {},
     "outputs": [],
     "prompt_number": 77
    },
    {
     "cell_type": "code",
     "collapsed": false,
     "input": [
      "convex(v0,v1,v)"
     ],
     "language": "python",
     "metadata": {},
     "outputs": [
      {
       "output_type": "pyout",
       "prompt_number": 78,
       "text": [
        "True"
       ]
      }
     ],
     "prompt_number": 78
    },
    {
     "cell_type": "code",
     "collapsed": false,
     "input": [
      "v0 =[array([10,0]),array([10,10])]\n",
      "v1 =[array([10,0]),array([0,0])]\n",
      "v = [array([10,0]),array([15,10])]"
     ],
     "language": "python",
     "metadata": {},
     "outputs": [],
     "prompt_number": 79
    },
    {
     "cell_type": "code",
     "collapsed": false,
     "input": [
      "convex(v0,v1,v)"
     ],
     "language": "python",
     "metadata": {},
     "outputs": [
      {
       "output_type": "pyout",
       "prompt_number": 80,
       "text": [
        "False"
       ]
      }
     ],
     "prompt_number": 80
    },
    {
     "cell_type": "code",
     "collapsed": false,
     "input": [
      "v0 =[array([0,0]),array([10,0])]\n",
      "v1 =[array([0,0]),array([0,10])]\n",
      "v = [array([0,0]),array([2,2])]"
     ],
     "language": "python",
     "metadata": {},
     "outputs": [],
     "prompt_number": 81
    },
    {
     "cell_type": "code",
     "collapsed": false,
     "input": [
      "convex(v0,v1,v)"
     ],
     "language": "python",
     "metadata": {},
     "outputs": [
      {
       "output_type": "pyout",
       "prompt_number": 82,
       "text": [
        "True"
       ]
      }
     ],
     "prompt_number": 82
    },
    {
     "cell_type": "code",
     "collapsed": false,
     "input": [
      "v0 =[array([0,0]),array([10,0])]\n",
      "v1 =[array([0,0]),array([0,10])]\n",
      "v = [array([0,0]),array([-2,-2])]"
     ],
     "language": "python",
     "metadata": {},
     "outputs": [],
     "prompt_number": 154
    },
    {
     "cell_type": "code",
     "collapsed": false,
     "input": [
      "convex(v0,v1,v)"
     ],
     "language": "python",
     "metadata": {},
     "outputs": [
      {
       "output_type": "pyout",
       "prompt_number": 155,
       "text": [
        "False"
       ]
      }
     ],
     "prompt_number": 155
    },
    {
     "cell_type": "code",
     "collapsed": false,
     "input": [
      "\n"
     ],
     "language": "python",
     "metadata": {},
     "outputs": []
    }
   ],
   "metadata": {}
  }
 ]
}